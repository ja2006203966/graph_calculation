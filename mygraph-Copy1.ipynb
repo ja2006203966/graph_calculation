{
 "cells": [
  {
   "cell_type": "code",
   "execution_count": 1,
   "metadata": {},
   "outputs": [
    {
     "name": "stderr",
     "output_type": "stream",
     "text": [
      "Using TensorFlow backend.\n"
     ]
    }
   ],
   "source": [
    "import numpy as np\n",
    "import scipy.optimize as opt\n",
    "import sys, os, random, gzip\n",
    "import tensorflow as tf\n",
    "from keras import backend as K\n",
    "from keras.models import *\n",
    "from keras.layers import *\n",
    "from keras.optimizers import Adam\n",
    "from keras.losses import categorical_crossentropy\n",
    "import matplotlib.pyplot as plt"
   ]
  },
  {
   "cell_type": "code",
   "execution_count": 337,
   "metadata": {},
   "outputs": [],
   "source": [
    "# global flags & parameters\n",
    "# remark: increase the sample size for full deployment, while the training/testing samples should be skipped.\n",
    "SRC_SIG = {'filename':'jet_g_match_qcd_gg.txt.gz', 'skip':60000, 'n':2000}\n",
    "SRC_BKG = {'filename':'jet_q_match_qcd_qq.txt.gz', 'skip':60000, 'n':2000}\n",
    "WEIGHTS_2PCNN = 'wgts_prototype.h5'\n",
    "BATCH_SIZE = 80\n",
    "MAKE_SUMMARY_PLOTS = True\n",
    "EPOCHS = 20\n",
    "ENABLE_EARLY_STOPPING = True\n",
    "MAX_PATIENCE = 10\n",
    "\n",
    "# # constituents format\n",
    "# _index, _type, _pid, _charge, _pt, _eta, _phi, _vx, _vy, _vz = range(10)\n",
    "_pt,_eta,_phi=1,2,3 #myfile use pt in index 1, eta->2,phi->3\n",
    "def deltaPhi(phi1,phi2):\n",
    "    x = phi1-phi2\n",
    "    while x>= np.pi: x -= np.pi*2.\n",
    "    while x< -np.pi: x += np.pi*2.\n",
    "    return x\n",
    "\n",
    "def deltaR(eta1,phi1,eta2,phi2):\n",
    "    return (deltaPhi(phi1,phi2)**2+(eta1-eta2)**2)**0.5\n",
    "\n",
    "def find_main_axis(clist):\n",
    "    def fcn(p):\n",
    "        dir_x,dir_y = np.cos(p[0]),np.sin(p[0])\n",
    "        v = clist[(clist[:,_eta]**2+clist[:,_phi]**2)**0.5>1E-5]\n",
    "        cosang = np.abs(dir_x*v[:,_eta]+dir_y*v[:,_phi])/(v[:,_eta]**2+v[:,_phi]**2)**0.5\n",
    "        proj = (v[:,_pt]*cosang).sum()\n",
    "        return -proj\n",
    "    r = opt.minimize(fcn,[0.])\n",
    "    if r.success: return r.x[0]\n",
    "    else: return None\n",
    "\n",
    "# reading jet data from the gzipped text stream\n",
    "# def parse_jet_data(fin):\n",
    "    \n",
    "#     if '<jet_data>' not in fin.readline().decode():\n",
    "#         print(\">>> ERROR: invalid input\", flush=True)\n",
    "#         sys.exit(0)\n",
    "#     data = {}\n",
    "#     buf = fin.readline().decode().split() # jet kinematics\n",
    "#     data['index'] = int(buf[0])\n",
    "#     data['pt'] = float(buf[1])\n",
    "#     data['eta'] = float(buf[2])\n",
    "#     data['phi'] = float(buf[3])\n",
    "#     data['mass'] = float(buf[4])\n",
    "#     data['deltaeta'] = float(buf[5])\n",
    "#     data['deltaphi'] = float(buf[6])\n",
    "#     data['charge'] = int(buf[7])\n",
    "#     data['ehadovereem'] = float(buf[8])\n",
    "#     data['ncharged'] = int(buf[9])\n",
    "#     data['nneutrals'] = int(buf[10])\n",
    "#     data['tau1'] = float(buf[11])\n",
    "#     data['tau2'] = float(buf[12])\n",
    "#     data['tau3'] = float(buf[13])\n",
    "#     data['tau4'] = float(buf[14])\n",
    "#     data['tau5'] = float(buf[15])\n",
    "#     buf = fin.readline().decode().split() # trimmed/pruned/softdrop P4\n",
    "#     data['pt_trimmed'] = float(buf[0])\n",
    "#     data['eta_trimmed'] = float(buf[1])\n",
    "#     data['phi_trimmed'] = float(buf[2])\n",
    "#     data['mass_trimmed'] = float(buf[3])\n",
    "#     data['pt_pruned'] = float(buf[4])\n",
    "#     data['eta_pruned'] = float(buf[5])\n",
    "#     data['phi_pruned'] = float(buf[6])\n",
    "#     data['mass_pruned'] = float(buf[7])\n",
    "#     data['pt_pruned_sub1'] = float(buf[8])\n",
    "#     data['eta_pruned_sub1'] = float(buf[9])\n",
    "#     data['phi_pruned_sub1'] = float(buf[10])\n",
    "#     data['mass_pruned_sub1'] = float(buf[11])\n",
    "#     data['pt_pruned_sub2'] = float(buf[12])\n",
    "#     data['eta_pruned_sub2'] = float(buf[13])\n",
    "#     data['phi_pruned_sub2'] = float(buf[14])\n",
    "#     data['mass_pruned_sub2'] = float(buf[15])\n",
    "#     data['pt_pruned_sub3'] = float(buf[16])\n",
    "#     data['eta_pruned_sub3'] = float(buf[17])\n",
    "#     data['phi_pruned_sub3'] = float(buf[18])\n",
    "#     data['mass_pruned_sub3'] = float(buf[19])\n",
    "#     data['pt_softdrop'] = float(buf[20])\n",
    "#     data['eta_softdrop'] = float(buf[21])\n",
    "#     data['phi_softdrop'] = float(buf[22])\n",
    "#     data['mass_softdrop'] = float(buf[23])\n",
    "#     data['pt_softdrop_sub1'] = float(buf[24])\n",
    "#     data['eta_softdrop_sub1'] = float(buf[25])\n",
    "#     data['phi_softdrop_sub1'] = float(buf[26])\n",
    "#     data['mass_softdrop_sub1'] = float(buf[27])\n",
    "#     data['pt_softdrop_sub2'] = float(buf[28])\n",
    "#     data['eta_softdrop_sub2'] = float(buf[29])\n",
    "#     data['phi_softdrop_sub2'] = float(buf[30])\n",
    "#     data['mass_softdrop_sub2'] = float(buf[31])\n",
    "#     data['pt_softdrop_sub3'] = float(buf[32])\n",
    "#     data['eta_softdrop_sub3'] = float(buf[33])\n",
    "#     data['phi_softdrop_sub3'] = float(buf[34])\n",
    "#     data['mass_softdrop_sub3'] = float(buf[35])\n",
    "#     buf = fin.readline().decode().split() # subject/constituents counts\n",
    "#     data['nsub_trimmed'] = int(buf[0])\n",
    "#     data['nsub_pruned'] = int(buf[1])\n",
    "#     data['nsub_softdrop'] = int(buf[2])\n",
    "#     data['nconstituents'] = int(buf[3])\n",
    "#     buf = fin.readline().decode().split() # generater info\n",
    "#     data['gen_pid'] = int(buf[0])\n",
    "#     data['gen_charge'] = int(buf[1])\n",
    "#     data['gen_pt'] = float(buf[2])\n",
    "#     data['gen_eta'] = float(buf[3])\n",
    "#     data['gen_phi'] = float(buf[4])\n",
    "#     data['gen_mass'] = float(buf[5])\n",
    "  \n",
    "\n",
    "  \n",
    "#      clist = [] # prepare constituents list\n",
    "#     for i in range(data['nconstituents']):\n",
    "#         var = [float(s) for s in fin.readline().decode().split()] # index, type(0:gen/1:track/2:Ecal/3:Hcal), pid, charge, pt, eta, phi, vx, vy, vz\n",
    "#         # relative to jet pt and direction\n",
    "#         var[_pt ] = var[_pt]/data['pt']\n",
    "#         var[_eta] = var[_eta]-data['eta']\n",
    "#         var[_phi] = deltaPhi(var[_phi],data['phi'])\n",
    "#         clist.append(var)\n",
    "#     clist = np.array(clist)\n",
    "\n",
    "#     buf = fin.readline().decode().split() # Tjet variables, nsub = 1\n",
    "#     data['tjet1_eta1'] = float(buf[0])\n",
    "#     data['tjet1_phi1'] = float(buf[1])\n",
    "#     buf = fin.readline().decode().split()\n",
    "#     data['tjet1_R1'] = float(buf[0])\n",
    "#     data['tjet1_R1_pt1'] = float(buf[1])\n",
    "#     data['tjet1_R1_m1'] = float(buf[2])\n",
    "#     buf = fin.readline().decode().split()\n",
    "#     data['tjet1_R2'] = float(buf[0])\n",
    "#     data['tjet1_R2_pt1'] = float(buf[1])\n",
    "#     data['tjet1_R2_m1'] = float(buf[2])\n",
    "#     buf = fin.readline().decode().split()\n",
    "#     data['tjet1_R3'] = float(buf[0])\n",
    "#     data['tjet1_R3_pt1'] = float(buf[1])\n",
    "#     data['tjet1_R3_m1'] = float(buf[2])\n",
    "#     buf = fin.readline().decode().split()\n",
    "#     data['tjet1_R4'] = float(buf[0])\n",
    "#     data['tjet1_R4_pt1'] = float(buf[1])\n",
    "#     data['tjet1_R4_m1'] = float(buf[2])\n",
    "\n",
    "#     buf = fin.readline().decode().split() # Tjet variables, nsub = 2\n",
    "#     data['tjet2_eta1'] = float(buf[0])\n",
    "#     data['tjet2_phi1'] = float(buf[1])\n",
    "#     buf = fin.readline().decode().split()\n",
    "#     data['tjet2_eta2'] = float(buf[0])\n",
    "#     data['tjet2_phi2'] = float(buf[1])\n",
    "#     buf = fin.readline().decode().split()\n",
    "#     data['tjet2_R1'] = float(buf[0])\n",
    "#     data['tjet2_R1_pt1'] = float(buf[1])\n",
    "#     data['tjet2_R1_pt2'] = float(buf[2])\n",
    "#     data['tjet2_R1_m1'] = float(buf[3])\n",
    "#     data['tjet2_R1_m2'] = float(buf[4])\n",
    "#     buf = fin.readline().decode().split()\n",
    "#     data['tjet2_R2'] = float(buf[0])\n",
    "#     data['tjet2_R2_pt1'] = float(buf[1])\n",
    "#     data['tjet2_R2_pt2'] = float(buf[2])\n",
    "#     data['tjet2_R2_m1'] = float(buf[3])\n",
    "#     data['tjet2_R2_m2'] = float(buf[4])\n",
    "#     buf = fin.readline().decode().split()\n",
    "#     data['tjet2_R3'] = float(buf[0])\n",
    "#     data['tjet2_R3_pt1'] = float(buf[1])\n",
    "#     data['tjet2_R3_pt2'] = float(buf[2])\n",
    "#     data['tjet2_R3_m1'] = float(buf[3])\n",
    "#     data['tjet2_R3_m2'] = float(buf[4])\n",
    "#     buf = fin.readline().decode().split()\n",
    "#     data['tjet2_R4'] = float(buf[0])\n",
    "#     data['tjet2_R4_pt1'] = float(buf[1])\n",
    "#     data['tjet2_R4_pt2'] = float(buf[2])\n",
    "#     data['tjet2_R4_m1'] = float(buf[3])\n",
    "#     data['tjet2_R4_m2'] = float(buf[4])\n",
    "\n",
    "#     buf = fin.readline().decode().split() # Tjet variables, nsub = 3\n",
    "#     data['tjet3_eta1'] = float(buf[0])\n",
    "#     data['tjet3_phi1'] = float(buf[1])\n",
    "#     buf = fin.readline().decode().split()\n",
    "#     data['tjet3_eta2'] = float(buf[0])\n",
    "#     data['tjet3_phi2'] = float(buf[1])\n",
    "#     buf = fin.readline().decode().split()\n",
    "#     data['tjet3_eta3'] = float(buf[0])\n",
    "#     data['tjet3_phi3'] = float(buf[1])\n",
    "#     buf = fin.readline().decode().split()\n",
    "#     data['tjet3_R1'] = float(buf[0])\n",
    "#     data['tjet3_R1_pt1'] = float(buf[1])\n",
    "#     data['tjet3_R1_pt2'] = float(buf[2])\n",
    "#     data['tjet3_R1_pt3'] = float(buf[3])\n",
    "#     data['tjet3_R1_m1'] = float(buf[4])\n",
    "#     data['tjet3_R1_m2'] = float(buf[5])\n",
    "#     data['tjet3_R1_m3'] = float(buf[6])\n",
    "#     buf = fin.readline().decode().split()\n",
    "#     data['tjet3_R2'] = float(buf[0])\n",
    "#     data['tjet3_R2_pt1'] = float(buf[1])\n",
    "#     data['tjet3_R2_pt2'] = float(buf[2])\n",
    "#     data['tjet3_R2_pt3'] = float(buf[3])\n",
    "#     data['tjet3_R2_m1'] = float(buf[4])\n",
    "#     data['tjet3_R2_m2'] = float(buf[5])\n",
    "#     data['tjet3_R2_m3'] = float(buf[6])\n",
    "#     buf = fin.readline().decode().split()\n",
    "#     data['tjet3_R3'] = float(buf[0])\n",
    "#     data['tjet3_R3_pt1'] = float(buf[1])\n",
    "#     data['tjet3_R3_pt2'] = float(buf[2])\n",
    "#     data['tjet3_R3_pt3'] = float(buf[3])\n",
    "#     data['tjet3_R3_m1'] = float(buf[4])\n",
    "#     data['tjet3_R3_m2'] = float(buf[5])\n",
    "#     data['tjet3_R3_m3'] = float(buf[6])\n",
    "#     buf = fin.readline().decode().split()\n",
    "#     data['tjet3_R4'] = float(buf[0])\n",
    "#     data['tjet3_R4_pt1'] = float(buf[1])\n",
    "#     data['tjet3_R4_pt2'] = float(buf[2])\n",
    "#     data['tjet3_R4_pt3'] = float(buf[3])\n",
    "#     data['tjet3_R4_m1'] = float(buf[4])\n",
    "#     data['tjet3_R4_m2'] = float(buf[5])\n",
    "#     data['tjet3_R4_m3'] = float(buf[6])\n",
    "\n",
    "#     if '</jet_data>' not in fin.readline().decode():\n",
    "#         print(\">>> ERROR: invalid input\", flush=True)\n",
    "#         sys.exit(0)\n",
    "    \n",
    "#     # Apply rotation\n",
    "#     dir = find_main_axis(clist)\n",
    "#     if dir!=None:\n",
    "#         dir = -dir # rotation everything to x-axis\n",
    "#         clist[:,_eta], clist[:,_phi] = np.cos(dir)*clist[:,_eta]-np.sin(dir)*clist[:,_phi], np.sin(dir)*clist[:,_eta]+np.cos(dir)*clist[:,_phi]\n",
    "\n",
    "#     return data, clist\n",
    "\n",
    "# skip 1 set of jet data from the gzipped text stream\n",
    "def skip_jet_data(fin):\n",
    "    if '<jet_data>' not in fin.readline().decode():\n",
    "        print(\">>> ERROR: invalid input\", flush=True)\n",
    "        sys.exit(0)\n",
    "    while '</jet_data>' not in fin.readline().decode():\n",
    "        pass\n",
    "\n",
    "def prepare_sample(filename, size, skip = 0):\n",
    "    fin = gzip.open(filename)\n",
    "    print('Loading from',filename, flush=True)\n",
    "    \n",
    "    if skip>0:\n",
    "        print('Skip first',skip,'jets', flush=True)\n",
    "        for i in range(skip):\n",
    "            skip_jet_data(fin)\n",
    "    \n",
    "    slist = []\n",
    "    while(len(slist)<size):\n",
    "        d, c = parse_jet_data(fin)\n",
    "        if len(c)<4: continue # drop those jets with low # of constituents\n",
    "        \n",
    "        # inject regular jet data for convenience\n",
    "        supply = np.array([d['pt']/1E3, # in unit of TeV\n",
    "                           d['eta'],\n",
    "                           d['phi']],dtype=K.floatx())\n",
    "        \n",
    "        c_ext = [] # expend the 2-particle correlations\n",
    "        for i,j in [(i,j) for i in range(len(c)) for j in range(i+1,len(c))]:\n",
    "            \n",
    "            # only (pt,eta,phi)*2\n",
    "            c_ext.append([c[i,_pt],c[i,_eta],c[i,_phi],\n",
    "                          c[j,_pt],c[j,_eta],c[j,_phi]])\n",
    "\n",
    "        slist.append((np.array(c_ext,dtype=K.floatx()),supply)) # tuple of 2pc array, supply array\n",
    "        if len(slist) % 1000==0: print(len(slist),'/',size,'jets loaded', flush=True)\n",
    "    fin.close()\n",
    "    return slist\n",
    "\n",
    "# custom 2PC layer\n",
    "class MyLayer(Layer):\n",
    "\n",
    "    def __init__(self, filters, toppooling_dim = 1, hidden_dim = None, **kwargs):\n",
    "        self.filters = filters\n",
    "        self.toppooling_dim = toppooling_dim\n",
    "        self.hidden_dim = hidden_dim\n",
    "        super(MyLayer, self).__init__(**kwargs)\n",
    "    \n",
    "    def build(self, input_shape):\n",
    "        if self.hidden_dim!=None:\n",
    "            self.w1 = self.add_weight(name='w1', shape=(self.filters, input_shape[-1], self.hidden_dim), initializer='normal', trainable=True)\n",
    "            self.b1 = self.add_weight(name='b1', shape=(self.filters, self.hidden_dim), initializer='normal', trainable=True)\n",
    "            self.w2 = self.add_weight(name='w2', shape=(self.filters, self.hidden_dim, 1), initializer='normal', trainable=True)\n",
    "            self.b2 = self.add_weight(name='b2', shape=(self.filters, 1), initializer='normal', trainable=True)\n",
    "        else:\n",
    "            self.w1 = self.add_weight(name='w1', shape=(self.filters, input_shape[-1], 1), initializer='normal', trainable=True)\n",
    "            self.b1 = self.add_weight(name='b1', shape=(self.filters, 1), initializer='normal', trainable=True)\n",
    "        \n",
    "        super(MyLayer, self).build(input_shape)\n",
    "    \n",
    "    def call(self, x):\n",
    "        def operation_over_sample(sample):\n",
    "            buffer = []\n",
    "            for idx in range(self.filters):\n",
    "                oper = K.dot(sample,self.w1[idx])+self.b1[idx] # sum w*x+b\n",
    "                oper = K.relu(oper) # activation\n",
    "                \n",
    "                if self.hidden_dim!=None: # insert hidden dense layer\n",
    "                    oper = K.dot(oper,self.w2[idx])+self.b2[idx] # sum w*x+b\n",
    "                    oper = K.relu(oper) # activation\n",
    "                \n",
    "                # since the first input is pt, which is always positive => convert it as a mask\n",
    "                mask = K.expand_dims(K.greater(sample[:,0],0.),axis=1)\n",
    "                mask = K.cast(mask,K.floatx())\n",
    "                oper *= mask # apply masking\n",
    "                \n",
    "                top_indices = tf.nn.top_k(oper[:,0], k=self.toppooling_dim, sorted=True).indices\n",
    "                top = K.gather(oper,top_indices) # top-k pooling\n",
    "                \n",
    "                buffer.append(top)\n",
    "            return K.concatenate(buffer)\n",
    "        return K.map_fn(operation_over_sample,x)\n",
    "\n",
    "    def compute_output_shape(self, input_shape):\n",
    "        return (input_shape[0], self.toppooling_dim, self.filters) # output dimension = n_samples x toppooling_dim x filters\n",
    "def combine2(a):\n",
    "    return a*(a-1)/2\n",
    "def txttogz(myev): ## txt -> .txt.gz\n",
    "    import gzip\n",
    "    \n",
    "    import shutil\n",
    "    with open(myev, 'rb') as f_in, gzip.open(myev+'.gz', 'wb') as f_out:\n",
    "        shutil.copyfileobj(f_in, f_out)\n",
    "def parse_jet_data(fin):\n",
    "    \n",
    "#     if '<jet_data>' not in fin.readline().decode():\n",
    "#         print(\">>> ERROR: invalid input\", flush=True)\n",
    "#         sys.exit(0)\n",
    "    data = {}\n",
    "    fin.readline().decode().split()\n",
    "    buf = fin.readline().decode().split() # jet kinematics\n",
    "    data['pt'] = float(buf[1])\n",
    "    data['eta'] = float(buf[2])\n",
    "    data['phi'] = float(buf[3])\n",
    "    data['nconstituents'] = int(buf[4])\n",
    "    fin.readline().decode().split()\n",
    "    clist = [] # prepare constituents list\n",
    "    for i in range(data['nconstituents']):\n",
    "        var = [float(s) for s in fin.readline().decode().split()] # index, type(0:gen/1:track/2:Ecal/3:Hcal), pid, charge, pt, eta, phi, vx, vy, vz\n",
    "        # relative to jet pt and direction\n",
    "        _pt,_eta,_phi=1,2,3 #myfile use pt in index 1, eta->2,phi->3\n",
    "        var[_pt ] = var[_pt]/data['pt']\n",
    "        var[_eta] = var[_eta]-data['eta']\n",
    "        var[_phi] = deltaPhi(var[_phi],data['phi'])\n",
    "        clist.append(var)\n",
    "    clist = np.array(clist)\n",
    "    dir = find_main_axis(clist)\n",
    "    if dir!=None:\n",
    "        dir = -dir # rotation everything to x-axis\n",
    "        clist[:,_eta], clist[:,_phi] = np.cos(dir)*clist[:,_eta]-np.sin(dir)*clist[:,_phi], np.sin(dir)*clist[:,_eta]+np.cos(dir)*clist[:,_phi]\n",
    "\n",
    "\n",
    "    return data, clist\n",
    "def prepare_sample2(filename, size, skip = 0):\n",
    "    fin = gzip.open(filename)\n",
    "    print('Loading from',filename, flush=True)\n",
    "    \n",
    "#     if skip>0:\n",
    "#         print('Skip first',skip,'jets', flush=True)\n",
    "#         for i in range(skip):\n",
    "#             skip_jet_data(fin)\n",
    "    \n",
    "    slist = []\n",
    "    while(len(slist)<size):\n",
    "        d, c = parse_jet_data(fin)\n",
    "        if len(c)<4: continue # drop those jets with low # of constituents\n",
    "        \n",
    "        # inject regular jet data for convenience\n",
    "        supply = np.array([d['pt']/1E3, # in unit of TeV\n",
    "                           d['eta'],\n",
    "                           d['phi']],dtype=K.floatx())\n",
    "        \n",
    "        c_ext = [] # expend the 2-particle correlations\n",
    "        for i,j in [(i,j) for i in range(len(c)) for j in range(i+1,len(c))]:\n",
    "            \n",
    "            # only (pt,eta,phi)*2\n",
    "            c_ext.append([c[i,_pt],c[i,_eta],c[i,_phi],\n",
    "                          c[j,_pt],c[j,_eta],c[j,_phi]])\n",
    "\n",
    "        slist.append((np.array(c_ext,dtype=K.floatx()),supply)) # tuple of 2pc array, supply array\n",
    "        if len(slist) % 1000==0: print(len(slist),'/',size,'jets loaded', flush=True)\n",
    "    fin.close()\n",
    "    return slist"
   ]
  },
  {
   "cell_type": "code",
   "execution_count": 338,
   "metadata": {},
   "outputs": [],
   "source": [
    "def parse_jet_data_myself(fin):\n",
    "    \n",
    "#     if '<jet_data>' not in fin.readline().decode():\n",
    "#         print(\">>> ERROR: invalid input\", flush=True)\n",
    "#         sys.exit(0)\n",
    "    data = {}\n",
    "    fin.readline().decode().split()\n",
    "    buf = fin.readline().decode().split() # jet kinematics\n",
    "    data['e'] = float(buf[0])\n",
    "    data['pt'] = float(buf[1])\n",
    "    data['eta'] = float(buf[2])\n",
    "    data['phi'] = float(buf[3])\n",
    "    data['nconstituents'] = int(buf[4])\n",
    "    fin.readline().decode().split()\n",
    "    clist = [] # prepare constituents list\n",
    "    for i in range(data['nconstituents']):\n",
    "        var = [float(s) for s in fin.readline().decode().split()] # index, type(0:gen/1:track/2:Ecal/3:Hcal), pid, charge, pt, eta, phi, vx, vy, vz\n",
    "        # relative to jet pt and direction\n",
    "        _e,_pt,_eta,_phi=0,1,2,3 #myfile use pt in index 1, eta->2,phi->3\n",
    "#         var[_pt ] = var[_pt]/data['pt']\n",
    "#         var[_eta] = var[_eta]-data['eta']\n",
    "#         var[_phi] = deltaPhi(var[_phi],data['phi'])\n",
    "        clist.append(var)\n",
    "    clist = np.array(clist)\n",
    "#     dir = find_main_axis(clist)\n",
    "#     if dir!=None:\n",
    "#         dir = -dir # rotation everything to x-axis\n",
    "#         clist[:,_eta], clist[:,_phi] = np.cos(dir)*clist[:,_eta]-np.sin(dir)*clist[:,_phi], np.sin(dir)*clist[:,_eta]+np.cos(dir)*clist[:,_phi]\n",
    "\n",
    "\n",
    "    return data, clist\n",
    "def prepare_sample_myself(filename, size, skip = 0):\n",
    "    fin = gzip.open(filename)\n",
    "    print('Loading from',filename, flush=True)\n",
    "    \n",
    "#     if skip>0:\n",
    "#         print('Skip first',skip,'jets', flush=True)\n",
    "#         for i in range(skip):\n",
    "#             skip_jet_data(fin)\n",
    "    \n",
    "    slist, jetlist = [], []\n",
    "    while(len(slist)<size):\n",
    "        d, c = parse_jet_data_myself(fin)\n",
    "        if len(c)<4: continue # drop those jets with low # of constituents\n",
    "        \n",
    "        # inject regular jet data for convenience\n",
    "        \n",
    "#         supply = np.array([d['pt']/1E3, # in unit of TeV\n",
    "#                            d['eta'],\n",
    "#                            d['phi']],dtype=K.floatx())\n",
    "        supply = [d['e'],d['pt'],d['eta'],d['phi']]\n",
    "        jetlist.append(supply)\n",
    "#         c_ext = [] # expend the 2-particle correlations\n",
    "#         for i,j in [(i,j) for i in range(len(c)) for j in range(i+1,len(c))]:\n",
    "            \n",
    "#             # only (pt,eta,phi)*2\n",
    "#             c_ext.append([c[i,_pt],c[i,_eta],c[i,_phi],\n",
    "#                           c[j,_pt],c[j,_eta],c[j,_phi]])\n",
    "\n",
    "        slist.append(c) # tuple of 2pc array, supply array\n",
    "        if len(slist) % 1000==0: print(len(slist),'/',size,'jets loaded', flush=True)\n",
    "    fin.close()\n",
    "    return jetlist, slist"
   ]
  },
  {
   "cell_type": "code",
   "execution_count": 339,
   "metadata": {},
   "outputs": [],
   "source": [
    "##data prepare myself\n",
    "myev='./myevents'\n",
    "qq,gg='qq','gg'"
   ]
  },
  {
   "cell_type": "code",
   "execution_count": 340,
   "metadata": {},
   "outputs": [],
   "source": [
    "## you need it only for first times you run this program\n",
    "txttogz(myev+qq+'.txt') ##txt -> gz\n",
    "txttogz(myev+gg+'.txt')"
   ]
  },
  {
   "cell_type": "code",
   "execution_count": 341,
   "metadata": {},
   "outputs": [
    {
     "name": "stdout",
     "output_type": "stream",
     "text": [
      "Loading from ./myeventsgg.txt.gz\n",
      "1000 / 5000 jets loaded\n",
      "2000 / 5000 jets loaded\n",
      "3000 / 5000 jets loaded\n",
      "4000 / 5000 jets loaded\n",
      "5000 / 5000 jets loaded\n",
      "Loading from ./myeventsqq.txt.gz\n",
      "1000 / 5000 jets loaded\n",
      "2000 / 5000 jets loaded\n",
      "3000 / 5000 jets loaded\n",
      "4000 / 5000 jets loaded\n",
      "5000 / 5000 jets loaded\n"
     ]
    }
   ],
   "source": [
    "nEvent = 5000\n",
    "jet_sig, slist_sig,=prepare_sample_myself(myev+gg+'.txt.gz', nEvent, skip = 0)\n",
    "jet_bkg, slist_bkg=prepare_sample_myself(myev+qq+'.txt.gz', nEvent, skip = 0)\n",
    "sample = [[*s,np.array([1.,0.],dtype=K.floatx())] for s in slist_sig]+[[*s,np.array([0.,1.],dtype=K.floatx())] for s in slist_bkg]"
   ]
  },
  {
   "cell_type": "code",
   "execution_count": 111,
   "metadata": {},
   "outputs": [
    {
     "data": {
      "text/plain": [
       "array([ 1.33597   ,  0.00230321, -0.39034509, -0.01626397])"
      ]
     },
     "execution_count": 111,
     "metadata": {},
     "output_type": "execute_result"
    }
   ],
   "source": [
    "slist_sig[0][0]"
   ]
  },
  {
   "cell_type": "code",
   "execution_count": 345,
   "metadata": {},
   "outputs": [],
   "source": [
    "def mydeltaphi(p1,p2):\n",
    "    phi = p1-p2\n",
    "    if phi<np.pi:\n",
    "        phi+2*np.pi\n",
    "    if phi>=np.pi:\n",
    "        phi-2*np.pi\n",
    "    return phi\n",
    "\n",
    "def dij(vec1, vec2, R=0.4, jetpt=-1,w=1,d=1):\n",
    "    distance = ((vec1[2]-vec2[2])**2+mydeltaphi(vec1[3],vec2[3])**2)**0.5/R\n",
    "    distance = distance**d\n",
    "    if (jetpt!=-1):\n",
    "        weight = max(vec1[1],vec2[1])/jetpt\n",
    "        distance = distance*weight**w    \n",
    "    return distance\n",
    "def edgeset(vec,RCUT,R=0.4,jetpt=-1,w=1,d=1):\n",
    "    points = len(vec)\n",
    "    edge = [set([i,j]) for i in range(1,points) for j in range(i) if dij(vec[i], vec[j], R, jetpt, w, d)<=RCUT]\n",
    "    points = set([i for i in range(points)])\n",
    "    return points, edge \n",
    "def neighborhood(vec,k=-1,R=0.4,jetpt=-1,w=1,d=1):\n",
    "    points = len(vec)\n",
    "    if k == -1:\n",
    "        k = points\n",
    "    if k > points:\n",
    "        print(\"You need check k > number of particles\")\n",
    "    else:\n",
    "        dijset = [[dij(vec[i], vec[j], R, jetpt, w, d) for j in range(points)] for i in range(points)]\n",
    "        x = []\n",
    "        index0 = [i for i in range(points)]\n",
    "        for i in range(points):\n",
    "            edges = np.sort(dijset[i])\n",
    "            index = []\n",
    "            for j in edges[:k+1]:\n",
    "                index.append(index0[dijset[i].index(j)])\n",
    "            x.append(index)\n",
    "        \n",
    "        points = set([i for i in range(points)])\n",
    "        return points, x \n",
    "# def neighborset(points, x):\n",
    "#     a = set([j for i in points for j in x if i in j])\n",
    "#     [ for i in a]\n",
    "                "
   ]
  },
  {
   "cell_type": "code",
   "execution_count": 104,
   "metadata": {},
   "outputs": [],
   "source": [
    "n=36\n",
    "x, y, c = [], [], [] \n",
    "vec = [i for i in jet_sig[n]]\n",
    "vec[1] = 0\n",
    "for i in range(len(slist_sig[n])):\n",
    "    x.append(np.log2(dij(vec, slist_sig[n][i], jetpt=jet_sig[n][1], w=1, d=0)))\n",
    "    y.append(dij(jet_sig[n], slist_sig[n][i], R=1, w=0, d=1))\n",
    "    c.append(slist_sig[n][i][1])"
   ]
  },
  {
   "cell_type": "code",
   "execution_count": 79,
   "metadata": {},
   "outputs": [
    {
     "data": {
      "text/plain": [
       "(array([ 0.913314,  0.600641, -0.96484 ,  2.95111 ]),\n",
       " [943.404, 533.897, -1.17012, 2.76041])"
      ]
     },
     "execution_count": 79,
     "metadata": {},
     "output_type": "execute_result"
    }
   ],
   "source": [
    "slist_sig[n][1], jet_sig[n]"
   ]
  },
  {
   "cell_type": "code",
   "execution_count": 105,
   "metadata": {},
   "outputs": [
    {
     "data": {
      "text/plain": [
       "<matplotlib.colorbar.Colorbar at 0x7f3013e3c310>"
      ]
     },
     "execution_count": 105,
     "metadata": {},
     "output_type": "execute_result"
    },
    {
     "data": {
      "image/png": "[encoded data removed]",
      "text/plain": [
       "<Figure size 432x288 with 2 Axes>"
      ]
     },
     "metadata": {
      "needs_background": "light"
     },
     "output_type": "display_data"
    }
   ],
   "source": [
    "sc = plt.scatter(x,y,s=100,c=c,cmap='Accent')\n",
    "k=2-int(min(x))\n",
    "for i in range(k):\n",
    "    plt.plot([-i,-i],[-0.1,0.4], '--', c='black')\n",
    "plt.ylim((-0.01,0.41))\n",
    "plt.colorbar(sc)"
   ]
  },
  {
   "cell_type": "code",
   "execution_count": 308,
   "metadata": {},
   "outputs": [],
   "source": [
    "dcut = r/2 # in range(1/10000,1/1000)\n",
    "n = 98\n",
    "P, E = neighborhood(slist_bkg[n] , k = 1, jetpt = jet_bkg[n][1], w=-2, d=2)\n"
   ]
  },
  {
   "cell_type": "code",
   "execution_count": 99,
   "metadata": {},
   "outputs": [
    {
     "name": "stdout",
     "output_type": "stream",
     "text": [
      "12\n",
      "35\n",
      "57\n",
      "63\n",
      "91\n",
      "92\n"
     ]
    }
   ],
   "source": [
    "for n in range(100):\n",
    "    P, E = neighborhood(slist_sig[n] , k = 1, jetpt = jet_sig[n][1], w=-2, d=2)\n",
    "    aaa = [i[1] for i in E]\n",
    "    if len(set(aaa))==2:\n",
    "        print(n)\n",
    "del aaa"
   ]
  },
  {
   "cell_type": "code",
   "execution_count": 309,
   "metadata": {},
   "outputs": [
    {
     "data": {
      "text/plain": [
       "[[0, 24],\n",
       " [1, 24],\n",
       " [2, 24],\n",
       " [3, 24],\n",
       " [4, 24],\n",
       " [5, 24],\n",
       " [6, 24],\n",
       " [7, 24],\n",
       " [8, 24],\n",
       " [9, 24],\n",
       " [10, 24],\n",
       " [11, 24],\n",
       " [12, 24],\n",
       " [13, 24],\n",
       " [14, 24],\n",
       " [15, 24],\n",
       " [16, 24],\n",
       " [17, 24],\n",
       " [18, 24],\n",
       " [19, 24],\n",
       " [20, 24],\n",
       " [21, 24],\n",
       " [22, 24],\n",
       " [23, 24],\n",
       " [24, 25],\n",
       " [25, 24]]"
      ]
     },
     "execution_count": 309,
     "metadata": {},
     "output_type": "execute_result"
    }
   ],
   "source": [
    "E"
   ]
  },
  {
   "cell_type": "code",
   "execution_count": 193,
   "metadata": {},
   "outputs": [
    {
     "data": {
      "text/plain": [
       "2"
      ]
     },
     "execution_count": 193,
     "metadata": {},
     "output_type": "execute_result"
    }
   ],
   "source": [
    "P, E = edgeset(slist_sig[0], dcut,jetpt = jet_sig[0][1], w=w, d=d)"
   ]
  },
  {
   "cell_type": "code",
   "execution_count": 7,
   "metadata": {},
   "outputs": [],
   "source": [
    "nEvent = 21\n",
    "def edge_analy(nEvent, slist_sig, slist_bkg, jet_sig, jet_bkg, rcut=-1, output= False , a=1, b=1):\n",
    "    dcut = 0\n",
    "    P, E = edgeset(slist_sig[nEvent],dcut,jetpt= jet_sig[nEvent][1], w=a, d=b)\n",
    "    P2, E2 = edgeset(slist_bkg[nEvent],dcut,jetpt= jet_bkg[nEvent][1], w=a, d=b)\n",
    "    n=len(P)\n",
    "    n2=len(P2)\n",
    "    if (output):\n",
    "        print('total N =',n,'  ',n2)\n",
    "        n=n*(n-1)/2\n",
    "        n2=n2*(n2-1)/2\n",
    "        print('total edge =',n,'  ',n2)\n",
    "        print('=====================================================edge_rcut/edge_total=========================')\n",
    "        print('RCUT    ', 'sig        ', 'bkg')\n",
    "        if rcut==-1:\n",
    "            for i in range(150):\n",
    "                delta = 0.00001\n",
    "                dcut = delta*i\n",
    "                P, E = edgeset(slist_sig[nEvent],dcut,jetpt = jet_sig[nEvent][1], w=a, d=b)\n",
    "                P2, E2 = edgeset(slist_bkg[nEvent],dcut,jetpt = jet_bkg[nEvent][1], w=a, d=b)\n",
    "                if (i%10==0):\n",
    "                    print(round(dcut,5),'  ', round(len(E)/n*100,3),'%','  ', round(len(E2)/n2*100,3),'%')\n",
    "    if rcut!=-1:\n",
    "        n=n*(n-1)/2\n",
    "        n2=n2*(n2-1)/2\n",
    "        dcut = rcut\n",
    "        P, E = edgeset(slist_sig[nEvent],dcut, jetpt = jet_sig[nEvent][1], w=a, d=b)\n",
    "        P2, E2 = edgeset(slist_bkg[nEvent],dcut, jetpt = jet_bkg[nEvent][1], w=a, d=b)\n",
    "        if (output):\n",
    "            print(round(dcut,5),'  ', round(len(E)/n*100,3),'%','  ', round(len(E2)/n2*100,3),'%')\n",
    "        return len(E)/n, len(E2)/n2"
   ]
  },
  {
   "cell_type": "code",
   "execution_count": 116,
   "metadata": {},
   "outputs": [
    {
     "data": {
      "text/plain": [
       "5000"
      ]
     },
     "execution_count": 116,
     "metadata": {},
     "output_type": "execute_result"
    }
   ],
   "source": [
    "len(slist_sig)"
   ]
  },
  {
   "cell_type": "code",
   "execution_count": 115,
   "metadata": {},
   "outputs": [
    {
     "name": "stderr",
     "output_type": "stream",
     "text": [
      "/home/james/.conda/envs/test2/lib/python3.7/site-packages/ipykernel_launcher.py:8: MatplotlibDeprecationWarning: \n",
      "The 'normed' kwarg was deprecated in Matplotlib 2.1 and will be removed in 3.1. Use 'density' instead.\n",
      "  \n",
      "/home/james/.conda/envs/test2/lib/python3.7/site-packages/ipykernel_launcher.py:9: MatplotlibDeprecationWarning: \n",
      "The 'normed' kwarg was deprecated in Matplotlib 2.1 and will be removed in 3.1. Use 'density' instead.\n",
      "  if __name__ == '__main__':\n"
     ]
    },
    {
     "data": {
      "text/plain": [
       "(array([3.8177072, 0.       , 0.       , 0.       , 0.       , 0.       ,\n",
       "        0.       , 0.       , 0.       , 0.       , 0.       , 0.       ,\n",
       "        0.       , 0.       , 0.       , 0.       , 3.8177072, 3.8177072,\n",
       "        7.6354144, 0.       , 0.       , 0.       , 7.6354144, 0.       ,\n",
       "        0.       , 0.       , 0.       , 0.       , 3.8177072, 7.6354144,\n",
       "        3.8177072, 3.8177072, 0.       , 3.8177072, 3.8177072, 7.6354144,\n",
       "        3.8177072, 0.       , 0.       , 3.8177072, 3.8177072, 0.       ,\n",
       "        0.       , 0.       , 0.       , 3.8177072, 0.       , 0.       ,\n",
       "        0.       , 3.8177072]),\n",
       " array([0.35164835, 0.36412156, 0.37659476, 0.38906797, 0.40154117,\n",
       "        0.41401438, 0.42648759, 0.43896079, 0.451434  , 0.4639072 ,\n",
       "        0.47638041, 0.48885362, 0.50132682, 0.51380003, 0.52627323,\n",
       "        0.53874644, 0.55121964, 0.56369285, 0.57616606, 0.58863926,\n",
       "        0.60111247, 0.61358567, 0.62605888, 0.63853209, 0.65100529,\n",
       "        0.6634785 , 0.6759517 , 0.68842491, 0.70089811, 0.71337132,\n",
       "        0.72584453, 0.73831773, 0.75079094, 0.76326414, 0.77573735,\n",
       "        0.78821055, 0.80068376, 0.81315697, 0.82563017, 0.83810338,\n",
       "        0.85057658, 0.86304979, 0.875523  , 0.8879962 , 0.90046941,\n",
       "        0.91294261, 0.92541582, 0.93788902, 0.95036223, 0.96283544,\n",
       "        0.97530864]),\n",
       " <a list of 1 Patch objects>)"
      ]
     },
     "execution_count": 115,
     "metadata": {},
     "output_type": "execute_result"
    },
    {
     "data": {
      "image/png": "[encoded data removed]",
      "text/plain": [
       "<Figure size 432x288 with 1 Axes>"
      ]
     },
     "metadata": {
      "needs_background": "light"
     },
     "output_type": "display_data"
    }
   ],
   "source": [
    "#analy data\n",
    "x, y = [], []\n",
    "for iEvent in range(nEvent):\n",
    "#     r=0.000003001\n",
    "    sig, bkg =edge_analy(iEvent, slist_sig, slist_bkg, jet_sig, jet_bkg, rcut=r,a=w,b=d)\n",
    "    x.append(sig)\n",
    "    y.append(bkg)\n",
    "plt.hist(x, histtype='step', normed=True, bins=50)\n",
    "plt.hist(y, histtype='step', normed=True, bins=50)"
   ]
  },
  {
   "cell_type": "code",
   "execution_count": 153,
   "metadata": {},
   "outputs": [
    {
     "data": {
      "text/plain": [
       "2"
      ]
     },
     "execution_count": 153,
     "metadata": {},
     "output_type": "execute_result"
    }
   ],
   "source": [
    "1+1"
   ]
  },
  {
   "cell_type": "code",
   "execution_count": 8,
   "metadata": {},
   "outputs": [],
   "source": [
    "def within(lwb,upb,j):\n",
    "    if (upb<=j)&(j<lwb):\n",
    "        return True\n",
    "    else:\n",
    "        return False\n",
    "    \n",
    "def myLoss(r=0.000003,w=1,d=1,bins=50, slist_sig=slist_sig, slist_bkg=slist_bkg, jet_sig=jet_sig, jet_bkg=jet_bkg):\n",
    "    sig, bkg = [], []\n",
    "    nEvent = len(slist_sig)\n",
    "    for iEvent in range(nEvent):\n",
    "        x, y = edge_analy(iEvent, slist_sig, slist_bkg, jet_sig, jet_bkg, rcut=r,a=w,b=d)\n",
    "        sig.append(x)\n",
    "        bkg.append(y)\n",
    "#     lwb, upb = max(sig+bkg), min(sig+bkg)\n",
    "    lwb, upb = 1, 0\n",
    "    deltax = (lwb - upb)/bins\n",
    "    L = sum([abs(len([0 for j in sig if within(upb+deltax*(i+1),upb+deltax*i,j)])-\n",
    "                 len([0 for j in bkg if within(upb+deltax*(i+1),upb+deltax*i,j)])) for i in range(bins)])\n",
    "    L = 1-L/(len(sig)+len(bkg))\n",
    "    return L\n",
    "\n",
    "def direct(r,w,d, deltad=1,deltaw=1,deltar=1/1E6, x=slist_sig, y=slist_bkg, xj=jet_sig, yj=jet_bkg):\n",
    "    a = [-1,0,1]\n",
    "    vec = [[r+i*deltar,w+j*deltaw,d+k*deltad]for i in a for j in a for k in a]\n",
    "    L0 = myLoss(r,w,d,slist_sig=x, slist_bkg=y, jet_sig=xj, jet_bkg=yj)\n",
    "    Ls=L0\n",
    "    for i in vec:\n",
    "        L = myLoss(i[0],i[1],i[2],slist_sig=x, slist_bkg=y, jet_sig=xj, jet_bkg=yj)\n",
    "        if L0>L:\n",
    "            L0 = L\n",
    "            r, w, d = i[0],i[1],i[2]\n",
    "    return r, w, d, L0\n",
    "        \n",
    "def batch(x=slist_sig,size=1):\n",
    "    n = len(x)\n",
    "    a = [[x[i] for i in range (n) if within((j+1)*size,j*size,i)] for j in range(n//size) ]\n",
    "    return a\n",
    "    \n",
    "    \n",
    "    \n",
    "\n",
    "# def mygradient(r,w,d,deltad=1,deltaw=1,deltar=1/1E9):\n",
    "    \n",
    "#     L = myLoss(r=r,w=w,d=d)\n",
    "    \n",
    "    \n",
    "    \n",
    "    \n",
    "    \n",
    "    \n",
    "    "
   ]
  },
  {
   "cell_type": "code",
   "execution_count": null,
   "metadata": {},
   "outputs": [],
   "source": [
    "\n",
    "count=0\n",
    "L=100\n",
    "w, d =3, 3\n",
    "r=(1/100)**w*(1/10)**d\n",
    "deltar=r/10\n",
    "deltaw=0.5\n",
    "deltad=0.5\n",
    "N=len(x)\n",
    "for i in range(N):\n",
    "    if count >10:\n",
    "        break\n",
    "    r0, w0, d0, L0 = direct(r, w, d, deltar=deltar, deltaw=deltaw, deltad=deltad, x=x[i], y=y[i], xj=xj[i], yj=yj[i])\n",
    "    deltar = (1/100)**w0*(1/10)**d0\n",
    "    L0 = myLoss(r0,w0,d0)\n",
    "    print(i,'LOSS= ',L0,'r, w, d = ', r0, w0, d0)\n",
    "#     if L<L0:\n",
    "#         break\n",
    "    if L<=L0:\n",
    "        deltar = deltar/2\n",
    "        deltaw = deltaw/2\n",
    "        deltad = deltad*(1/100)**deltaw*(1/10)**deltad\n",
    "        count=count+1\n",
    "        continue\n",
    "    r,w,d=r0,w0,d0\n",
    "    L = L0"
   ]
  },
  {
   "cell_type": "code",
   "execution_count": 9,
   "metadata": {},
   "outputs": [],
   "source": [
    "x=batch(slist_sig,size=100)\n",
    "y=batch(slist_bkg,size=100)\n",
    "xj=batch(jet_sig,size=100)\n",
    "yj=batch(jet_bkg,size=100)"
   ]
  },
  {
   "cell_type": "code",
   "execution_count": 109,
   "metadata": {},
   "outputs": [],
   "source": [
    "\n",
    "N=len(x)\n",
    "L=L0\n",
    "for i in range(N):\n",
    "    r, w, d, L0 = direct(r, w, d, x=x[i], y=y[i], xj=xj[i], yj=yj[i])\n",
    "    print(i,'LOSS= ',L0,'r, w, d = ', r, w, d)\n",
    "    if L<L0:\n",
    "        break\n",
    "    if i==0:\n",
    "        L = L0\n",
    "    "
   ]
  },
  {
   "cell_type": "code",
   "execution_count": 147,
   "metadata": {},
   "outputs": [
    {
     "data": {
      "text/plain": [
       "(1.032522776601684e-06, 1.5, 1.5)"
      ]
     },
     "execution_count": 147,
     "metadata": {},
     "output_type": "execute_result"
    }
   ],
   "source": [
    "r,w,d"
   ]
  },
  {
   "cell_type": "code",
   "execution_count": 23,
   "metadata": {},
   "outputs": [
    {
     "data": {
      "text/plain": [
       "{0, 1, 2, 3, 4, 5, 6, 7, 8, 9}"
      ]
     },
     "execution_count": 23,
     "metadata": {},
     "output_type": "execute_result"
    }
   ],
   "source": [
    "i=0\n",
    "{i|i in range(10)}\n",
    "{i for i in range(10)}"
   ]
  },
  {
   "cell_type": "code",
   "execution_count": 98,
   "metadata": {},
   "outputs": [
    {
     "data": {
      "text/plain": [
       "False"
      ]
     },
     "execution_count": 98,
     "metadata": {},
     "output_type": "execute_result"
    }
   ],
   "source": [
    "(1 in [1,2])&(3 in [1,2])"
   ]
  },
  {
   "cell_type": "code",
   "execution_count": 7,
   "metadata": {},
   "outputs": [
    {
     "data": {
      "text/plain": [
       "array([1.33597 , 1.26606 , 0.313192, 4.03542 ])"
      ]
     },
     "execution_count": 7,
     "metadata": {},
     "output_type": "execute_result"
    }
   ],
   "source": [
    "slist_sig[0][0]"
   ]
  },
  {
   "cell_type": "code",
   "execution_count": 8,
   "metadata": {},
   "outputs": [
    {
     "data": {
      "text/plain": [
       "[646.789, 549.694, 0.576217, 4.3243]"
      ]
     },
     "execution_count": 8,
     "metadata": {},
     "output_type": "execute_result"
    }
   ],
   "source": [
    "jet_sig[0]"
   ]
  },
  {
   "cell_type": "code",
   "execution_count": null,
   "metadata": {},
   "outputs": [],
   "source": [
    "#r, w, d = (1.032522776601684e-06, 1.5, 1.5)"
   ]
  },
  {
   "cell_type": "code",
   "execution_count": 28,
   "metadata": {},
   "outputs": [
    {
     "data": {
      "text/plain": [
       "<tf.Operation 'PrintV2_4' type=PrintV2>"
      ]
     },
     "execution_count": 28,
     "metadata": {},
     "output_type": "execute_result"
    }
   ],
   "source": [
    "tf.random.normal((5,1), mean=1, stddev=1.0, dtype=tf.float32)"
   ]
  },
  {
   "cell_type": "code",
   "execution_count": null,
   "metadata": {},
   "outputs": [],
   "source": [
    "tf.random.uniform(\n",
    "    shape, minval=0, maxval=None, dtype=tf.dtypes.float32, seed=None, name=None\n",
    ")"
   ]
  },
  {
   "cell_type": "code",
   "execution_count": 41,
   "metadata": {},
   "outputs": [
    {
     "name": "stdout",
     "output_type": "stream",
     "text": [
      "<tf.Variable 'Variable_4:0' shape=(2, 3) dtype=float32_ref>\n",
      "[[0.22401321 0.45938468 0.8032191 ]\n",
      " [0.69169486 0.05838752 0.17943871]]\n"
     ]
    }
   ],
   "source": [
    "w1 = tf.Variable(tf.random.uniform([2, 3], minval=0, maxval=1), trainable=True, constraint = tf.keras.constraints.MaxNorm(max_value=1, axis=0) )\n",
    "\n",
    "with tf.Session() as sess:\n",
    "    sess.run(tf.global_variables_initializer())\n",
    "\n",
    "    print(w1)\n",
    "    print(sess.run(w1))\n",
    "\n"
   ]
  },
  {
   "cell_type": "code",
   "execution_count": 450,
   "metadata": {},
   "outputs": [],
   "source": [
    "def mapping_2d(x,y,x0= 0 , y0 = 0, bins = (28,28)):\n",
    "    deltax = (x-x0)/bins[0]\n",
    "    X = tf.range(x0, x, deltax)\n",
    "    deltay = (y-y0)/bins[1]\n",
    "    Y = tf.range(y0, y, deltay)\n",
    "    X = tf.expand_dims(X, axis  = 1)\n",
    "    Y = tf.expand_dims(Y, axis  = 0)\n",
    "    X = tf.tile(X, [1,bins[1]])\n",
    "    X = tf.expand_dims(X, axis  = -1)\n",
    "    Y = tf.tile(Y, [bins[0],1])\n",
    "    Y = tf.expand_dims(Y, axis  = -1)\n",
    "    coordinate = tf.concat([X,Y], axis=-1)\n",
    "    return coordinate \n",
    "def index_0(bins = (28,28)):\n",
    "    X = tf.range(0, bins[0], 1)\n",
    "    Y = tf.range(0, bins[1], 1)\n",
    "    X =tf.expand_dims(X, axis  = 1)\n",
    "    Y = tf.expand_dims(Y, axis  = 0)\n",
    "    X = tf.tile(X, [1,bins[1]])\n",
    "    X =tf.expand_dims(X, axis  = -1)\n",
    "    Y = tf.tile(Y, [bins[0],1])\n",
    "    Y = tf.expand_dims(Y, axis  = -1)\n",
    "    index = tf.concat([X,Y], axis=-1)\n",
    "    return index\n",
    "def map_index(x, xlm, x0, c, bins = (28,28)):\n",
    "    x = tf.cast(x, tf.float64, name=None)\n",
    "    c = tf.cast(c, tf.float64, name=None)\n",
    "    indexs = [c[0],c[1],0]\n",
    "    deltax = (xlm[0]-x0[0])/bins[0]\n",
    "    deltay = (xlm[1]-x0[1])/bins[1]\n",
    "    condi = tf.reduce_all([tf.math.greater_equal(x[0], c[0]), tf.math.less(x[0], c[0]+deltax),tf.math.greater_equal(x[1], c[1])  ,tf.math.less( x[1] , c[1]+deltay)])\n",
    "    indexs[2] = tf.cond(condi, lambda: x[2], lambda: tf.constant(0, dtype = tf.float64 ))\n",
    "    \n",
    "    indexs = tf.cast(indexs, tf.float32)\n",
    "            \n",
    "    return indexs\n",
    "\n",
    "def my_map_coor2d(x, xlm = tf.constant([0,0.4]), x0 = tf.constant([-14,0]), d=2, bins = [28,28], dtype = tf.float32):\n",
    "    b0 = bins[0]\n",
    "    x = tf.cast(x, dtype , name=None)\n",
    "#     c = tf.cast(c, dtype , name=None)\n",
    "#     D = tf.range(0,d,1)\n",
    "#     D = tf.cast(D, tf.int8, name=None)\n",
    "    \n",
    "    xlm = tf.cast(xlm, dtype )\n",
    "    x0 = tf.cast(x0, dtype )\n",
    "    bins = tf.constant(bins)\n",
    "    bins = tf.cast(bins, dtype )\n",
    "    delta = (xlm - x0)/bins\n",
    "    bins = tf.cast(bins, tf.int8)\n",
    "    \n",
    "    coor0 = tf.convert_to_tensor([tf.range(x0[0], xlm[0], delta[0])])\n",
    "    def cond(i, d, coor0):\n",
    "        return  i< d\n",
    "    def body(i, d , coor0):\n",
    "        x =  tf.range(x0[i], xlm[i], delta[i])\n",
    "        coor0 = tf.concat([coor0, [tf.range(x0[i], xlm[i], delta[i])]], 0) \n",
    "        i = i+1\n",
    "        return i, d, coor0\n",
    "    i = tf.constant(1)\n",
    "    td = tf.constant(d)\n",
    "    _, _, coor0 = tf.while_loop(cond, body, [i, td , coor0], shape_invariants=[i.get_shape(), td.get_shape(), tf.TensorShape([None,b0])] )\n",
    "    \n",
    "    \n",
    "#     condi = tf.reduce_all([tf.math.greater_equal(x[0], c[0]), tf.math.less(x[0], c[0]+deltax),tf.math.greater_equal(x[1], c[1])  ,tf.math.less( x[1] , c[1]+deltay)])\n",
    "#     indexs[2] = tf.cond(condi, lambda: x[2], lambda: tf.constant(0, dtype = tf.float64 ))\n",
    "    \n",
    "#     indexs = tf.cast(indexs, tf.float32)\n",
    "            \n",
    "    return coor0\n",
    "\n",
    "def map_coor( xlm = tf.constant([0,0.4]), x0 = tf.constant([-14,0]), d=2, bins = [28,28], dtype = tf.float32):\n",
    "    b0 = bins[0]\n",
    "    \n",
    "    xlm = tf.cast(xlm, dtype )\n",
    "    x0 = tf.cast(x0, dtype )\n",
    "    bins = tf.constant(bins)\n",
    "    bins = tf.cast(bins, dtype )\n",
    "    delta = (xlm - x0)/bins\n",
    "    bins = tf.cast(bins, tf.int8)\n",
    "    \n",
    "    coor0 = tf.ragged.range(x0,xlm,deltas = delta )\n",
    "\n",
    "            \n",
    "    return coor0\n",
    "\n",
    "def within(x,c, delta):\n",
    "    xb = tf.math.logical_and(tf.math.greater_equal(x[0],c[0,:]), tf.math.less(x[0],c[0,:]+delta[0]))\n",
    "    yb = tf.math.logical_and(tf.math.greater_equal(x[1],c[1,:]), tf.math.less(x[1],c[1,:]+delta[1]))\n",
    "    return(tf.math.logical_and(xb,yb))\n",
    "\n",
    "def within_ind(x,c):\n",
    "    xb = tf.math.greater_equal(x[0],c[0,:])\n",
    "    xb = tf.cast(xb, tf.int8 )\n",
    "    xb = tf.math.reduce_sum(xb) -1\n",
    "    yb = tf.math.greater_equal(x[1],c[1,:])\n",
    "    yb = tf.cast(yb, tf.int8 )\n",
    "    yb = tf.math.reduce_sum(yb) -1\n",
    "    \n",
    "    return xb, yb\n",
    "\n",
    "def map_coor2(x, xlm = tf.constant([0,0.4]), x0 = tf.constant([-14,0]), d=2, bins = [28,28], dtype = tf.float32):\n",
    "    b0 = bins[0]\n",
    "    \n",
    "    xlm = tf.cast(xlm, dtype )\n",
    "    x0 = tf.cast(x0, dtype )\n",
    "    bins = tf.constant(bins)\n",
    "    bins = tf.cast(bins, dtype )\n",
    "    delta = (xlm - x0)/bins\n",
    "    coor0 = tf.ragged.range(x0,xlm,deltas = delta )\n",
    "   \n",
    "    \n",
    "    return  within(x,coor0,delta)\n"
   ]
  },
  {
   "cell_type": "code",
   "execution_count": 305,
   "metadata": {},
   "outputs": [],
   "source": [
    "# inputs = tf.constant([[[1, 2, 3], [2, 3, 4]],\n",
    "#                      [[3, 4,5], [4, 5, 6]],\n",
    "#                      [[5, 6, 7], [6, 7, 8]]])\n",
    "# data = tf.slice(inputs, [1, 0, 0], [1, 1, 3])\n",
    "dtype = tf.float32\n",
    "xlm = tf.constant([1,1])\n",
    "xlm = tf.cast(xlm, dtype )\n",
    "x0 = tf.constant([0,0])\n",
    "x0 = tf.cast(x0, dtype )\n",
    "bins = tf.constant((28,28))\n",
    "bins = tf.cast(bins, dtype )\n",
    "delta = (xlm - x0)/bins\n",
    "D = tf.range(0,2,1)\n",
    "bins = (28,28)\n",
    "d = 2\n"
   ]
  },
  {
   "cell_type": "code",
   "execution_count": 423,
   "metadata": {},
   "outputs": [],
   "source": [
    "bins = [28,28]\n",
    "coor0 = map_coor()\n",
    "a = tf.constant([[-11,0.1,1/64],[-10.1,0.34,1/32],[-5.2,0.2,10]])\n",
    "acx = a[:,0]\n",
    "coor0 = map_coor()\n",
    "af = tf.zeros([1,bins[0]])\n",
    "aup = tf.math.greater_equal(acx, coor0[0])"
   ]
  },
  {
   "cell_type": "code",
   "execution_count": 428,
   "metadata": {},
   "outputs": [],
   "source": [
    "X = coor0[0]\n",
    "Y = coor0[1]\n",
    "X =tf.expand_dims(X, axis  = 1)\n",
    "Y = tf.expand_dims(Y, axis  = 0)\n",
    "X = tf.tile(X, [1,bins[1]])\n",
    "X =tf.expand_dims(X, axis  = -1)\n",
    "Y = tf.tile(Y, [bins[0],1])\n",
    "Y = tf.expand_dims(Y, axis  = -1)\n",
    "index = tf.concat([X,Y], axis=-1)\n",
    "\n"
   ]
  },
  {
   "cell_type": "code",
   "execution_count": 467,
   "metadata": {},
   "outputs": [
    {
     "data": {
      "text/plain": [
       "TensorShape([Dimension(None)])"
      ]
     },
     "execution_count": 467,
     "metadata": {},
     "output_type": "execute_result"
    }
   ],
   "source": [
    "coor0[0].get_shape()"
   ]
  },
  {
   "cell_type": "code",
   "execution_count": 433,
   "metadata": {},
   "outputs": [
    {
     "data": {
      "text/plain": [
       "<tf.Tensor 'LogicalAnd_5:0' shape=(3,) dtype=bool>"
      ]
     },
     "execution_count": 433,
     "metadata": {},
     "output_type": "execute_result"
    }
   ],
   "source": [
    "\n",
    "a = tf.constant([[-11,0.1,1/64],[-10.1,0.34,1/32],[-5.2,0.2,10]])\n",
    "x = a\n",
    "a2 = tf.constant([[-11,0.1,1/64],[-10.1,.34,1/3],[-5.2,.2,11]])\n",
    "index = tf.constant(0)\n",
    "coor0x = coor0[0]\n",
    "coor0y = coor0[1]\n",
    "coor0 = tf.convert_to_tensor(coor0)\n",
    "def cond(i, d, coor0x,  coor0y, index, x):\n",
    "    return  i< d\n",
    "def body(i, d , coor0x,  coor0y, index, x):\n",
    "    index = within_ind(x[i],coor0y)\n",
    "    i = i+1\n",
    "    return i, d, coor0x, coor0y, index\n",
    "i = tf.constant(0)\n",
    "td = tf.constant(tf.shape(x)[0])\n",
    "_, _, _, _, ind = tf.while_loop(cond, body, [i, td , coor0x,  coor0y, index, x], shape_invariants=[i.get_shape(), td.get_shape(), coor0x.get_shape(), coor0y.get_shape(),\n",
    "                                                                                                tf.TensorShape([None,2]), tf.constant(a).get_shape()]  )\n",
    "    "
   ]
  },
  {
   "cell_type": "code",
   "execution_count": 464,
   "metadata": {},
   "outputs": [],
   "source": [
    "a = tf.constant([[-11,0.1,1/64],[-10.1,0.34,1/32],[-5.2,0.2,10]])\n",
    "a = tf.shape(a)[0]"
   ]
  },
  {
   "cell_type": "code",
   "execution_count": 438,
   "metadata": {},
   "outputs": [
    {
     "data": {
      "text/plain": [
       "tf.RaggedTensor(values=Tensor(\"RaggedRange_24:1\", shape=(?,), dtype=float32), row_splits=Tensor(\"RaggedRange_24:0\", shape=(3,), dtype=int64))"
      ]
     },
     "execution_count": 438,
     "metadata": {},
     "output_type": "execute_result"
    }
   ],
   "source": [
    "coor0[0]"
   ]
  },
  {
   "cell_type": "code",
   "execution_count": 465,
   "metadata": {},
   "outputs": [
    {
     "name": "stdout",
     "output_type": "stream",
     "text": [
      "3\n"
     ]
    }
   ],
   "source": [
    "sess = tf.Session()\n",
    "print(sess.run(a))\n",
    "sess.close()"
   ]
  },
  {
   "cell_type": "code",
   "execution_count": null,
   "metadata": {},
   "outputs": [],
   "source": []
  },
  {
   "cell_type": "code",
   "execution_count": 321,
   "metadata": {},
   "outputs": [],
   "source": [
    "dtype = tf.float32\n",
    "xlm = tf.constant([0,0.4])\n",
    "xlm = tf.cast(xlm, dtype )\n",
    "x0 = tf.constant([-12,0])\n",
    "x0 = tf.cast(x0, dtype )\n",
    "bins = tf.constant((28,28))\n",
    "bins = tf.cast(bins, dtype )\n",
    "delta = (xlm - x0)/bins\n",
    "a = tf.ragged.range(x0,xlm,deltas = delta )\n"
   ]
  },
  {
   "cell_type": "code",
   "execution_count": 335,
   "metadata": {},
   "outputs": [],
   "source": [
    "\n",
    "a = map_coor(1)\n",
    "a =  my_map_coor2d(1)"
   ]
  },
  {
   "cell_type": "code",
   "execution_count": 304,
   "metadata": {},
   "outputs": [],
   "source": [
    "tf.nest.assert_same_structure(\n",
    "coor0, coor2, check_types=True, expand_composites=False\n",
    ")"
   ]
  },
  {
   "cell_type": "code",
   "execution_count": 306,
   "metadata": {},
   "outputs": [
    {
     "data": {
      "text/plain": [
       "<tf.Tensor 'concat_54:0' shape=(2, 28) dtype=float32>"
      ]
     },
     "execution_count": 306,
     "metadata": {},
     "output_type": "execute_result"
    }
   ],
   "source": [
    "\n",
    "coor2 = tf.concat([coor0, [tf.range(x0[i], xlm[i], delta[i])]], 0)\n",
    "coor2"
   ]
  },
  {
   "cell_type": "code",
   "execution_count": 398,
   "metadata": {},
   "outputs": [
    {
     "name": "stdout",
     "output_type": "stream",
     "text": [
      "[[-11.     0.1 ]\n",
      " [-10.1    0.34]\n",
      " [ -5.2    0.2 ]]\n"
     ]
    }
   ],
   "source": []
  },
  {
   "cell_type": "code",
   "execution_count": null,
   "metadata": {},
   "outputs": [],
   "source": []
  },
  {
   "cell_type": "code",
   "execution_count": 165,
   "metadata": {},
   "outputs": [
    {
     "data": {
      "text/plain": [
       "TensorShape([])"
      ]
     },
     "execution_count": 165,
     "metadata": {},
     "output_type": "execute_result"
    }
   ],
   "source": [
    "d = tf.constant(2)\n",
    "d.get_shape()"
   ]
  },
  {
   "cell_type": "code",
   "execution_count": 307,
   "metadata": {},
   "outputs": [],
   "source": [
    "\n",
    "# x =  tf.range()\n",
    "# coor0 = tf.tile()\n",
    "# i = 0\n",
    "# coor0 = tf.concat([ coor0, tf.range(x0[i], xlm[i], delta[i]) ], 0)"
   ]
  },
  {
   "cell_type": "code",
   "execution_count": 308,
   "metadata": {},
   "outputs": [
    {
     "name": "stdout",
     "output_type": "stream",
     "text": [
      "[[-12.         -11.571428   -11.142857   -10.714285   -10.285713\n",
      "   -9.8571415   -9.42857     -8.999998    -8.571426    -8.142855\n",
      "   -7.7142835   -7.2857122   -6.857141    -6.42857     -5.9999986\n",
      "   -5.5714273   -5.142856    -4.714285    -4.2857137   -3.8571422\n",
      "   -3.4285707   -2.9999993   -2.5714278   -2.1428564   -1.7142849\n",
      "   -1.2857134   -0.857142    -0.42857054]\n",
      " [  0.           0.01428571   0.02857143   0.04285714   0.05714286\n",
      "    0.07142857   0.08571429   0.1          0.11428571   0.12857144\n",
      "    0.14285715   0.15714286   0.17142858   0.18571429   0.2\n",
      "    0.21428572   0.22857143   0.24285714   0.25714287   0.27142859\n",
      "    0.2857143    0.3          0.31428573   0.32857144   0.34285715\n",
      "    0.35714287   0.37142858   0.3857143 ]]\n"
     ]
    }
   ],
   "source": [
    "sess = tf.Session()\n",
    "print(sess.run(coor0))\n",
    "sess.close()"
   ]
  },
  {
   "cell_type": "code",
   "execution_count": 15,
   "metadata": {},
   "outputs": [],
   "source": [
    "dtype = tf.float32\n",
    "xlm = tf.constant([0,0.4])\n",
    "xlm = tf.cast(xlm, dtype )\n",
    "x0 = tf.constant([-12,0])\n",
    "x0 = tf.cast(x0, dtype )\n",
    "bins = tf.constant((28,28))\n",
    "bins = tf.cast(bins, dtype )\n",
    "delta = (xlm - x0)/bins"
   ]
  },
  {
   "cell_type": "code",
   "execution_count": 13,
   "metadata": {},
   "outputs": [],
   "source": [
    "def nmapping_2d(x,y,x0= 0 , y0 = 0, bins = (28,28)):\n",
    "    deltax = (x-x0)/bins[0]\n",
    "    X =np.arange(x0, x, deltax)\n",
    "    deltay = (y-y0)/bins[1]\n",
    "    Y = np.arange(y0, y, deltay)\n",
    "    X =np.expand_dims(X, axis  = 1)\n",
    "    Y = np.expand_dims(Y, axis  = 0)\n",
    "    X = np.tile(X, [1,bins[1]])\n",
    "    X =np.expand_dims(X, axis  = -1)\n",
    "    Y = np.tile(Y, [bins[0],1])\n",
    "    Y = np.expand_dims(Y, axis  = -1)\n",
    "    coordinate = np.concatenate([X,Y], axis=-1)\n",
    "    return coordinate \n"
   ]
  },
  {
   "cell_type": "code",
   "execution_count": 16,
   "metadata": {},
   "outputs": [],
   "source": [
    "def map_index(x, xlm, x0, c, bins = (28,28)):\n",
    "    indexs = [c[0],c[1],0]\n",
    "    deltax = (xlm[0]-x0[0])/bins[0]\n",
    "    deltay = (xlm[1]-x0[1])/bins[1]\n",
    "    if (x[0] >= c[0])&(x[0] < c[0]+deltax):\n",
    "        if (x[1] >= c[1])&(x[1] < c[1]+deltay):\n",
    "            indexs[2] = x[2]\n",
    "    return indexs"
   ]
  },
  {
   "cell_type": "code",
   "execution_count": null,
   "metadata": {},
   "outputs": [],
   "source": [
    "# tf.math.greater \n",
    "# tf.math.greater_equal\n",
    "# tf.math.less\n",
    "# tf.math.less_equal\n",
    "# tf.math.equal\n",
    "\n",
    "# sess = tf.Session()\n",
    "# print(sess.run( ))"
   ]
  },
  {
   "cell_type": "code",
   "execution_count": 25,
   "metadata": {},
   "outputs": [],
   "source": [
    "def index_0(bins = (28,28)):\n",
    "    X = np.arange(0, bins[0], 1)\n",
    "    Y = np.arange(0, bins[1], 1)\n",
    "    X =np.expand_dims(X, axis  = 1)\n",
    "    Y = np.expand_dims(Y, axis  = 0)\n",
    "    X = np.tile(X, [1,bins[1]])\n",
    "    X =np.expand_dims(X, axis  = -1)\n",
    "    Y = np.tile(Y, [bins[0],1])\n",
    "    Y = np.expand_dims(Y, axis  = -1)\n",
    "    index = np.concatenate([X,Y], axis=-1)\n",
    "    return index\n",
    "def map_out(x, xlm , x0, c , bins = (28,28)):\n",
    "    \n",
    "    \n",
    "    "
   ]
  },
  {
   "cell_type": "code",
   "execution_count": 157,
   "metadata": {},
   "outputs": [],
   "source": [
    "sess = tf.Session()\n",
    "print(sess.run(a))\n",
    "sess.close()"
   ]
  },
  {
   "cell_type": "code",
   "execution_count": 164,
   "metadata": {},
   "outputs": [
    {
     "name": "stdout",
     "output_type": "stream",
     "text": [
      "[0.1 0.2 0. ]\n"
     ]
    }
   ],
   "source": [
    "x = tf.constant([0.15,0.25,10])\n",
    "c = tf.constant([0.1,0.2])\n",
    "bins = (10,10)\n",
    "x = tf.cast(x, tf.float64, name=None)\n",
    "c = tf.cast(c, tf.float64, name=None)\n",
    "indexs = [c[0],c[1],0]\n",
    "deltax = (xlm[0]-x0[0])/bins[0]\n",
    "deltay = (xlm[1]-x0[1])/bins[1]\n",
    "\n",
    "xlm = tf.constant([1,1])\n",
    "x0 = tf.constant([0,0])\n",
    "# map_index(x, xlm, x0, c, bins = (28,28))\n",
    "sess = tf.Session()\n",
    "print(sess.run(map_index(x, xlm, x0, c, bins = (28,28))))\n",
    "sess.close()\n",
    "# sess = tf.Session()\n",
    "# print(sess.run(map_index(x, xlm, x0, c, bins = (28,28))))"
   ]
  },
  {
   "cell_type": "code",
   "execution_count": 73,
   "metadata": {},
   "outputs": [
    {
     "name": "stdout",
     "output_type": "stream",
     "text": [
      "[[[ 0  0]\n",
      "  [ 0  1]\n",
      "  [ 0  2]\n",
      "  ...\n",
      "  [ 0 25]\n",
      "  [ 0 26]\n",
      "  [ 0 27]]\n",
      "\n",
      " [[ 1  0]\n",
      "  [ 1  1]\n",
      "  [ 1  2]\n",
      "  ...\n",
      "  [ 1 25]\n",
      "  [ 1 26]\n",
      "  [ 1 27]]\n",
      "\n",
      " [[ 2  0]\n",
      "  [ 2  1]\n",
      "  [ 2  2]\n",
      "  ...\n",
      "  [ 2 25]\n",
      "  [ 2 26]\n",
      "  [ 2 27]]\n",
      "\n",
      " ...\n",
      "\n",
      " [[25  0]\n",
      "  [25  1]\n",
      "  [25  2]\n",
      "  ...\n",
      "  [25 25]\n",
      "  [25 26]\n",
      "  [25 27]]\n",
      "\n",
      " [[26  0]\n",
      "  [26  1]\n",
      "  [26  2]\n",
      "  ...\n",
      "  [26 25]\n",
      "  [26 26]\n",
      "  [26 27]]\n",
      "\n",
      " [[27  0]\n",
      "  [27  1]\n",
      "  [27  2]\n",
      "  ...\n",
      "  [27 25]\n",
      "  [27 26]\n",
      "  [27 27]]]\n"
     ]
    }
   ],
   "source": [
    "\n",
    "sess = tf.Session()\n",
    "# Evaluate the tensor `c`.\n",
    "print(sess.run(index_0()))\n"
   ]
  },
  {
   "cell_type": "code",
   "execution_count": 68,
   "metadata": {},
   "outputs": [
    {
     "data": {
      "text/plain": [
       "<tf.Tensor 'Equal_15:0' shape=(2, 2) dtype=bool>"
      ]
     },
     "execution_count": 68,
     "metadata": {},
     "output_type": "execute_result"
    }
   ],
   "source": [
    "a = tf.constant([[1,3],[2,4]])\n",
    "tf.math.equal(a,1)"
   ]
  },
  {
   "cell_type": "code",
   "execution_count": 63,
   "metadata": {},
   "outputs": [
    {
     "data": {
      "text/plain": [
       "<tf.Tensor 'cond_19/Merge:0' shape=() dtype=int32>"
      ]
     },
     "execution_count": 63,
     "metadata": {},
     "output_type": "execute_result"
    }
   ],
   "source": [
    "a = tf.constant([1,2,3,4,5])\n",
    "b = tf.constant([1,6,3,8,5])\n",
    "def f1():\n",
    "    return 0\n",
    "def f2():\n",
    "    return 1\n",
    "\n",
    "tf.cond(tf.reduce_all(tf.math.equal(a, b)) , f1, f2)"
   ]
  },
  {
   "cell_type": "code",
   "execution_count": 59,
   "metadata": {},
   "outputs": [
    {
     "data": {
      "text/plain": [
       "2"
      ]
     },
     "execution_count": 59,
     "metadata": {},
     "output_type": "execute_result"
    }
   ],
   "source": [
    "x = tf.constant(2)\n",
    "y = tf.constant(5)\n",
    "def f1(): return tf.multiply(x, 1)\n",
    "def f2(): return tf.add(y, 1)\n",
    "sess.run(tf.cond(tf.less(x, y), f1, f2))\n",
    "# r is set to f1().\n",
    "# Operations in f2 (e.g., tf.add) are not executed."
   ]
  },
  {
   "cell_type": "code",
   "execution_count": 3,
   "metadata": {},
   "outputs": [
    {
     "data": {
      "text/plain": [
       "(array([0]),)"
      ]
     },
     "execution_count": 3,
     "metadata": {},
     "output_type": "execute_result"
    }
   ],
   "source": [
    "a = np.array([1,23,12])\n",
    "np.where(a==1)"
   ]
  },
  {
   "cell_type": "code",
   "execution_count": 18,
   "metadata": {},
   "outputs": [
    {
     "data": {
      "text/plain": [
       "[0.1, 0.2, 0]"
      ]
     },
     "execution_count": 18,
     "metadata": {},
     "output_type": "execute_result"
    }
   ],
   "source": [
    "a = nmapping_2d(1,1,x0= 0 , y0 = 0, bins = (10,10))\n",
    "x = np.random.uniform(size = [10,3])\n",
    "\n",
    "map_index(x[0], [1,1], [0,0] ,a[1][2], bins = (10,10))\n"
   ]
  },
  {
   "cell_type": "code",
   "execution_count": 113,
   "metadata": {},
   "outputs": [
    {
     "data": {
      "text/plain": [
       "array([[8.50040726e-01, 6.79147283e-01, 2.55494052e-02],\n",
       "       [6.77361313e-01, 8.38640056e-01, 5.41238173e-01],\n",
       "       [5.55156623e-01, 6.81651984e-01, 5.50494936e-01],\n",
       "       [1.21648840e-01, 2.14299324e-01, 9.45851414e-01],\n",
       "       [1.17311814e-01, 8.73045571e-01, 2.36399931e-01],\n",
       "       [1.40243940e-01, 9.47430221e-01, 8.44760650e-02],\n",
       "       [2.83558383e-03, 6.43274760e-01, 5.50864885e-01],\n",
       "       [3.49723941e-01, 5.62772739e-01, 4.19591240e-01],\n",
       "       [1.60370360e-01, 2.42454823e-01, 8.86389211e-05],\n",
       "       [3.78788600e-01, 2.20756554e-01, 3.73375013e-01]])"
      ]
     },
     "execution_count": 113,
     "metadata": {},
     "output_type": "execute_result"
    }
   ],
   "source": []
  },
  {
   "cell_type": "code",
   "execution_count": 78,
   "metadata": {},
   "outputs": [
    {
     "ename": "FailedPreconditionError",
     "evalue": "Attempting to use uninitialized value Variable_5\n\t [[node Variable_5/read (defined at <ipython-input-70-a5e7bb94337c>:1) ]]\n\nOriginal stack trace for 'Variable_5/read':\n  File \"/home/james/.conda/envs/test2/lib/python3.7/runpy.py\", line 193, in _run_module_as_main\n    \"__main__\", mod_spec)\n  File \"/home/james/.conda/envs/test2/lib/python3.7/runpy.py\", line 85, in _run_code\n    exec(code, run_globals)\n  File \"/home/james/.conda/envs/test2/lib/python3.7/site-packages/ipykernel_launcher.py\", line 16, in <module>\n    app.launch_new_instance()\n  File \"/home/james/.conda/envs/test2/lib/python3.7/site-packages/traitlets/config/application.py\", line 658, in launch_instance\n    app.start()\n  File \"/home/james/.conda/envs/test2/lib/python3.7/site-packages/ipykernel/kernelapp.py\", line 563, in start\n    self.io_loop.start()\n  File \"/home/james/.conda/envs/test2/lib/python3.7/site-packages/tornado/platform/asyncio.py\", line 148, in start\n    self.asyncio_loop.run_forever()\n  File \"/home/james/.conda/envs/test2/lib/python3.7/asyncio/base_events.py\", line 534, in run_forever\n    self._run_once()\n  File \"/home/james/.conda/envs/test2/lib/python3.7/asyncio/base_events.py\", line 1771, in _run_once\n    handle._run()\n  File \"/home/james/.conda/envs/test2/lib/python3.7/asyncio/events.py\", line 88, in _run\n    self._context.run(self._callback, *self._args)\n  File \"/home/james/.conda/envs/test2/lib/python3.7/site-packages/tornado/ioloop.py\", line 690, in <lambda>\n    lambda f: self._run_callback(functools.partial(callback, future))\n  File \"/home/james/.conda/envs/test2/lib/python3.7/site-packages/tornado/ioloop.py\", line 743, in _run_callback\n    ret = callback()\n  File \"/home/james/.conda/envs/test2/lib/python3.7/site-packages/tornado/gen.py\", line 787, in inner\n    self.run()\n  File \"/home/james/.conda/envs/test2/lib/python3.7/site-packages/tornado/gen.py\", line 748, in run\n    yielded = self.gen.send(value)\n  File \"/home/james/.conda/envs/test2/lib/python3.7/site-packages/ipykernel/kernelbase.py\", line 365, in process_one\n    yield gen.maybe_future(dispatch(*args))\n  File \"/home/james/.conda/envs/test2/lib/python3.7/site-packages/tornado/gen.py\", line 209, in wrapper\n    yielded = next(result)\n  File \"/home/james/.conda/envs/test2/lib/python3.7/site-packages/ipykernel/kernelbase.py\", line 272, in dispatch_shell\n    yield gen.maybe_future(handler(stream, idents, msg))\n  File \"/home/james/.conda/envs/test2/lib/python3.7/site-packages/tornado/gen.py\", line 209, in wrapper\n    yielded = next(result)\n  File \"/home/james/.conda/envs/test2/lib/python3.7/site-packages/ipykernel/kernelbase.py\", line 542, in execute_request\n    user_expressions, allow_stdin,\n  File \"/home/james/.conda/envs/test2/lib/python3.7/site-packages/tornado/gen.py\", line 209, in wrapper\n    yielded = next(result)\n  File \"/home/james/.conda/envs/test2/lib/python3.7/site-packages/ipykernel/ipkernel.py\", line 294, in do_execute\n    res = shell.run_cell(code, store_history=store_history, silent=silent)\n  File \"/home/james/.conda/envs/test2/lib/python3.7/site-packages/ipykernel/zmqshell.py\", line 536, in run_cell\n    return super(ZMQInteractiveShell, self).run_cell(*args, **kwargs)\n  File \"/home/james/.conda/envs/test2/lib/python3.7/site-packages/IPython/core/interactiveshell.py\", line 2855, in run_cell\n    raw_cell, store_history, silent, shell_futures)\n  File \"/home/james/.conda/envs/test2/lib/python3.7/site-packages/IPython/core/interactiveshell.py\", line 2881, in _run_cell\n    return runner(coro)\n  File \"/home/james/.conda/envs/test2/lib/python3.7/site-packages/IPython/core/async_helpers.py\", line 68, in _pseudo_sync_runner\n    coro.send(None)\n  File \"/home/james/.conda/envs/test2/lib/python3.7/site-packages/IPython/core/interactiveshell.py\", line 3058, in run_cell_async\n    interactivity=interactivity, compiler=compiler, result=result)\n  File \"/home/james/.conda/envs/test2/lib/python3.7/site-packages/IPython/core/interactiveshell.py\", line 3249, in run_ast_nodes\n    if (await self.run_code(code, result,  async_=asy)):\n  File \"/home/james/.conda/envs/test2/lib/python3.7/site-packages/IPython/core/interactiveshell.py\", line 3326, in run_code\n    exec(code_obj, self.user_global_ns, self.user_ns)\n  File \"<ipython-input-70-a5e7bb94337c>\", line 1, in <module>\n    a = tf.Variable(a, trainable=True, constraint = tf.keras.constraints.MaxNorm(max_value=1, axis=0) )\n  File \"/home/james/.conda/envs/test2/lib/python3.7/site-packages/tensorflow/python/ops/variables.py\", line 259, in __call__\n    return cls._variable_v1_call(*args, **kwargs)\n  File \"/home/james/.conda/envs/test2/lib/python3.7/site-packages/tensorflow/python/ops/variables.py\", line 220, in _variable_v1_call\n    shape=shape)\n  File \"/home/james/.conda/envs/test2/lib/python3.7/site-packages/tensorflow/python/ops/variables.py\", line 198, in <lambda>\n    previous_getter = lambda **kwargs: default_variable_creator(None, **kwargs)\n  File \"/home/james/.conda/envs/test2/lib/python3.7/site-packages/tensorflow/python/ops/variable_scope.py\", line 2511, in default_variable_creator\n    shape=shape)\n  File \"/home/james/.conda/envs/test2/lib/python3.7/site-packages/tensorflow/python/ops/variables.py\", line 263, in __call__\n    return super(VariableMetaclass, cls).__call__(*args, **kwargs)\n  File \"/home/james/.conda/envs/test2/lib/python3.7/site-packages/tensorflow/python/ops/variables.py\", line 1568, in __init__\n    shape=shape)\n  File \"/home/james/.conda/envs/test2/lib/python3.7/site-packages/tensorflow/python/ops/variables.py\", line 1755, in _init_from_args\n    self._snapshot = array_ops.identity(self._variable, name=\"read\")\n  File \"/home/james/.conda/envs/test2/lib/python3.7/site-packages/tensorflow/python/util/dispatch.py\", line 180, in wrapper\n    return target(*args, **kwargs)\n  File \"/home/james/.conda/envs/test2/lib/python3.7/site-packages/tensorflow/python/ops/array_ops.py\", line 86, in identity\n    ret = gen_array_ops.identity(input, name=name)\n  File \"/home/james/.conda/envs/test2/lib/python3.7/site-packages/tensorflow/python/ops/gen_array_ops.py\", line 4253, in identity\n    \"Identity\", input=input, name=name)\n  File \"/home/james/.conda/envs/test2/lib/python3.7/site-packages/tensorflow/python/framework/op_def_library.py\", line 788, in _apply_op_helper\n    op_def=op_def)\n  File \"/home/james/.conda/envs/test2/lib/python3.7/site-packages/tensorflow/python/util/deprecation.py\", line 507, in new_func\n    return func(*args, **kwargs)\n  File \"/home/james/.conda/envs/test2/lib/python3.7/site-packages/tensorflow/python/framework/ops.py\", line 3616, in create_op\n    op_def=op_def)\n  File \"/home/james/.conda/envs/test2/lib/python3.7/site-packages/tensorflow/python/framework/ops.py\", line 2005, in __init__\n    self._traceback = tf_stack.extract_stack()\n",
     "output_type": "error",
     "traceback": [
      "\u001b[0;31m---------------------------------------------------------------------------\u001b[0m",
      "\u001b[0;31mFailedPreconditionError\u001b[0m                   Traceback (most recent call last)",
      "\u001b[0;32m~/.conda/envs/test2/lib/python3.7/site-packages/tensorflow/python/client/session.py\u001b[0m in \u001b[0;36m_do_call\u001b[0;34m(self, fn, *args)\u001b[0m\n\u001b[1;32m   1355\u001b[0m     \u001b[0;32mtry\u001b[0m\u001b[0;34m:\u001b[0m\u001b[0;34m\u001b[0m\u001b[0;34m\u001b[0m\u001b[0m\n\u001b[0;32m-> 1356\u001b[0;31m       \u001b[0;32mreturn\u001b[0m \u001b[0mfn\u001b[0m\u001b[0;34m(\u001b[0m\u001b[0;34m*\u001b[0m\u001b[0margs\u001b[0m\u001b[0;34m)\u001b[0m\u001b[0;34m\u001b[0m\u001b[0;34m\u001b[0m\u001b[0m\n\u001b[0m\u001b[1;32m   1357\u001b[0m     \u001b[0;32mexcept\u001b[0m \u001b[0merrors\u001b[0m\u001b[0;34m.\u001b[0m\u001b[0mOpError\u001b[0m \u001b[0;32mas\u001b[0m \u001b[0me\u001b[0m\u001b[0;34m:\u001b[0m\u001b[0;34m\u001b[0m\u001b[0;34m\u001b[0m\u001b[0m\n",
      "\u001b[0;32m~/.conda/envs/test2/lib/python3.7/site-packages/tensorflow/python/client/session.py\u001b[0m in \u001b[0;36m_run_fn\u001b[0;34m(feed_dict, fetch_list, target_list, options, run_metadata)\u001b[0m\n\u001b[1;32m   1340\u001b[0m       return self._call_tf_sessionrun(\n\u001b[0;32m-> 1341\u001b[0;31m           options, feed_dict, fetch_list, target_list, run_metadata)\n\u001b[0m\u001b[1;32m   1342\u001b[0m \u001b[0;34m\u001b[0m\u001b[0m\n",
      "\u001b[0;32m~/.conda/envs/test2/lib/python3.7/site-packages/tensorflow/python/client/session.py\u001b[0m in \u001b[0;36m_call_tf_sessionrun\u001b[0;34m(self, options, feed_dict, fetch_list, target_list, run_metadata)\u001b[0m\n\u001b[1;32m   1428\u001b[0m         \u001b[0mself\u001b[0m\u001b[0;34m.\u001b[0m\u001b[0m_session\u001b[0m\u001b[0;34m,\u001b[0m \u001b[0moptions\u001b[0m\u001b[0;34m,\u001b[0m \u001b[0mfeed_dict\u001b[0m\u001b[0;34m,\u001b[0m \u001b[0mfetch_list\u001b[0m\u001b[0;34m,\u001b[0m \u001b[0mtarget_list\u001b[0m\u001b[0;34m,\u001b[0m\u001b[0;34m\u001b[0m\u001b[0;34m\u001b[0m\u001b[0m\n\u001b[0;32m-> 1429\u001b[0;31m         run_metadata)\n\u001b[0m\u001b[1;32m   1430\u001b[0m \u001b[0;34m\u001b[0m\u001b[0m\n",
      "\u001b[0;31mFailedPreconditionError\u001b[0m: Attempting to use uninitialized value Variable_5\n\t [[{{node Variable_5/read}}]]",
      "\nDuring handling of the above exception, another exception occurred:\n",
      "\u001b[0;31mFailedPreconditionError\u001b[0m                   Traceback (most recent call last)",
      "\u001b[0;32m<ipython-input-78-98d9e4c15ca6>\u001b[0m in \u001b[0;36m<module>\u001b[0;34m\u001b[0m\n\u001b[1;32m      1\u001b[0m \u001b[0;32mwith\u001b[0m \u001b[0mtf\u001b[0m\u001b[0;34m.\u001b[0m\u001b[0mSession\u001b[0m\u001b[0;34m(\u001b[0m\u001b[0;34m)\u001b[0m \u001b[0;32mas\u001b[0m \u001b[0msess\u001b[0m\u001b[0;34m:\u001b[0m\u001b[0;34m\u001b[0m\u001b[0;34m\u001b[0m\u001b[0m\n\u001b[0;32m----> 2\u001b[0;31m     \u001b[0msess\u001b[0m\u001b[0;34m.\u001b[0m\u001b[0mrun\u001b[0m\u001b[0;34m(\u001b[0m\u001b[0mtf\u001b[0m\u001b[0;34m.\u001b[0m\u001b[0mglobal_variables_initializer\u001b[0m\u001b[0;34m(\u001b[0m\u001b[0;34m)\u001b[0m\u001b[0;34m)\u001b[0m\u001b[0;34m\u001b[0m\u001b[0;34m\u001b[0m\u001b[0m\n\u001b[0m\u001b[1;32m      3\u001b[0m \u001b[0;34m\u001b[0m\u001b[0m\n\u001b[1;32m      4\u001b[0m \u001b[0;34m\u001b[0m\u001b[0m\n\u001b[1;32m      5\u001b[0m     \u001b[0mprint\u001b[0m\u001b[0;34m(\u001b[0m\u001b[0ma\u001b[0m\u001b[0;34m)\u001b[0m\u001b[0;34m\u001b[0m\u001b[0;34m\u001b[0m\u001b[0m\n",
      "\u001b[0;32m~/.conda/envs/test2/lib/python3.7/site-packages/tensorflow/python/client/session.py\u001b[0m in \u001b[0;36mrun\u001b[0;34m(self, fetches, feed_dict, options, run_metadata)\u001b[0m\n\u001b[1;32m    948\u001b[0m     \u001b[0;32mtry\u001b[0m\u001b[0;34m:\u001b[0m\u001b[0;34m\u001b[0m\u001b[0;34m\u001b[0m\u001b[0m\n\u001b[1;32m    949\u001b[0m       result = self._run(None, fetches, feed_dict, options_ptr,\n\u001b[0;32m--> 950\u001b[0;31m                          run_metadata_ptr)\n\u001b[0m\u001b[1;32m    951\u001b[0m       \u001b[0;32mif\u001b[0m \u001b[0mrun_metadata\u001b[0m\u001b[0;34m:\u001b[0m\u001b[0;34m\u001b[0m\u001b[0;34m\u001b[0m\u001b[0m\n\u001b[1;32m    952\u001b[0m         \u001b[0mproto_data\u001b[0m \u001b[0;34m=\u001b[0m \u001b[0mtf_session\u001b[0m\u001b[0;34m.\u001b[0m\u001b[0mTF_GetBuffer\u001b[0m\u001b[0;34m(\u001b[0m\u001b[0mrun_metadata_ptr\u001b[0m\u001b[0;34m)\u001b[0m\u001b[0;34m\u001b[0m\u001b[0;34m\u001b[0m\u001b[0m\n",
      "\u001b[0;32m~/.conda/envs/test2/lib/python3.7/site-packages/tensorflow/python/client/session.py\u001b[0m in \u001b[0;36m_run\u001b[0;34m(self, handle, fetches, feed_dict, options, run_metadata)\u001b[0m\n\u001b[1;32m   1171\u001b[0m     \u001b[0;32mif\u001b[0m \u001b[0mfinal_fetches\u001b[0m \u001b[0;32mor\u001b[0m \u001b[0mfinal_targets\u001b[0m \u001b[0;32mor\u001b[0m \u001b[0;34m(\u001b[0m\u001b[0mhandle\u001b[0m \u001b[0;32mand\u001b[0m \u001b[0mfeed_dict_tensor\u001b[0m\u001b[0;34m)\u001b[0m\u001b[0;34m:\u001b[0m\u001b[0;34m\u001b[0m\u001b[0;34m\u001b[0m\u001b[0m\n\u001b[1;32m   1172\u001b[0m       results = self._do_run(handle, final_targets, final_fetches,\n\u001b[0;32m-> 1173\u001b[0;31m                              feed_dict_tensor, options, run_metadata)\n\u001b[0m\u001b[1;32m   1174\u001b[0m     \u001b[0;32melse\u001b[0m\u001b[0;34m:\u001b[0m\u001b[0;34m\u001b[0m\u001b[0;34m\u001b[0m\u001b[0m\n\u001b[1;32m   1175\u001b[0m       \u001b[0mresults\u001b[0m \u001b[0;34m=\u001b[0m \u001b[0;34m[\u001b[0m\u001b[0;34m]\u001b[0m\u001b[0;34m\u001b[0m\u001b[0;34m\u001b[0m\u001b[0m\n",
      "\u001b[0;32m~/.conda/envs/test2/lib/python3.7/site-packages/tensorflow/python/client/session.py\u001b[0m in \u001b[0;36m_do_run\u001b[0;34m(self, handle, target_list, fetch_list, feed_dict, options, run_metadata)\u001b[0m\n\u001b[1;32m   1348\u001b[0m     \u001b[0;32mif\u001b[0m \u001b[0mhandle\u001b[0m \u001b[0;32mis\u001b[0m \u001b[0;32mNone\u001b[0m\u001b[0;34m:\u001b[0m\u001b[0;34m\u001b[0m\u001b[0;34m\u001b[0m\u001b[0m\n\u001b[1;32m   1349\u001b[0m       return self._do_call(_run_fn, feeds, fetches, targets, options,\n\u001b[0;32m-> 1350\u001b[0;31m                            run_metadata)\n\u001b[0m\u001b[1;32m   1351\u001b[0m     \u001b[0;32melse\u001b[0m\u001b[0;34m:\u001b[0m\u001b[0;34m\u001b[0m\u001b[0;34m\u001b[0m\u001b[0m\n\u001b[1;32m   1352\u001b[0m       \u001b[0;32mreturn\u001b[0m \u001b[0mself\u001b[0m\u001b[0;34m.\u001b[0m\u001b[0m_do_call\u001b[0m\u001b[0;34m(\u001b[0m\u001b[0m_prun_fn\u001b[0m\u001b[0;34m,\u001b[0m \u001b[0mhandle\u001b[0m\u001b[0;34m,\u001b[0m \u001b[0mfeeds\u001b[0m\u001b[0;34m,\u001b[0m \u001b[0mfetches\u001b[0m\u001b[0;34m)\u001b[0m\u001b[0;34m\u001b[0m\u001b[0;34m\u001b[0m\u001b[0m\n",
      "\u001b[0;32m~/.conda/envs/test2/lib/python3.7/site-packages/tensorflow/python/client/session.py\u001b[0m in \u001b[0;36m_do_call\u001b[0;34m(self, fn, *args)\u001b[0m\n\u001b[1;32m   1368\u001b[0m           \u001b[0;32mpass\u001b[0m\u001b[0;34m\u001b[0m\u001b[0;34m\u001b[0m\u001b[0m\n\u001b[1;32m   1369\u001b[0m       \u001b[0mmessage\u001b[0m \u001b[0;34m=\u001b[0m \u001b[0merror_interpolation\u001b[0m\u001b[0;34m.\u001b[0m\u001b[0minterpolate\u001b[0m\u001b[0;34m(\u001b[0m\u001b[0mmessage\u001b[0m\u001b[0;34m,\u001b[0m \u001b[0mself\u001b[0m\u001b[0;34m.\u001b[0m\u001b[0m_graph\u001b[0m\u001b[0;34m)\u001b[0m\u001b[0;34m\u001b[0m\u001b[0;34m\u001b[0m\u001b[0m\n\u001b[0;32m-> 1370\u001b[0;31m       \u001b[0;32mraise\u001b[0m \u001b[0mtype\u001b[0m\u001b[0;34m(\u001b[0m\u001b[0me\u001b[0m\u001b[0;34m)\u001b[0m\u001b[0;34m(\u001b[0m\u001b[0mnode_def\u001b[0m\u001b[0;34m,\u001b[0m \u001b[0mop\u001b[0m\u001b[0;34m,\u001b[0m \u001b[0mmessage\u001b[0m\u001b[0;34m)\u001b[0m\u001b[0;34m\u001b[0m\u001b[0;34m\u001b[0m\u001b[0m\n\u001b[0m\u001b[1;32m   1371\u001b[0m \u001b[0;34m\u001b[0m\u001b[0m\n\u001b[1;32m   1372\u001b[0m   \u001b[0;32mdef\u001b[0m \u001b[0m_extend_graph\u001b[0m\u001b[0;34m(\u001b[0m\u001b[0mself\u001b[0m\u001b[0;34m)\u001b[0m\u001b[0;34m:\u001b[0m\u001b[0;34m\u001b[0m\u001b[0;34m\u001b[0m\u001b[0m\n",
      "\u001b[0;31mFailedPreconditionError\u001b[0m: Attempting to use uninitialized value Variable_5\n\t [[node Variable_5/read (defined at <ipython-input-70-a5e7bb94337c>:1) ]]\n\nOriginal stack trace for 'Variable_5/read':\n  File \"/home/james/.conda/envs/test2/lib/python3.7/runpy.py\", line 193, in _run_module_as_main\n    \"__main__\", mod_spec)\n  File \"/home/james/.conda/envs/test2/lib/python3.7/runpy.py\", line 85, in _run_code\n    exec(code, run_globals)\n  File \"/home/james/.conda/envs/test2/lib/python3.7/site-packages/ipykernel_launcher.py\", line 16, in <module>\n    app.launch_new_instance()\n  File \"/home/james/.conda/envs/test2/lib/python3.7/site-packages/traitlets/config/application.py\", line 658, in launch_instance\n    app.start()\n  File \"/home/james/.conda/envs/test2/lib/python3.7/site-packages/ipykernel/kernelapp.py\", line 563, in start\n    self.io_loop.start()\n  File \"/home/james/.conda/envs/test2/lib/python3.7/site-packages/tornado/platform/asyncio.py\", line 148, in start\n    self.asyncio_loop.run_forever()\n  File \"/home/james/.conda/envs/test2/lib/python3.7/asyncio/base_events.py\", line 534, in run_forever\n    self._run_once()\n  File \"/home/james/.conda/envs/test2/lib/python3.7/asyncio/base_events.py\", line 1771, in _run_once\n    handle._run()\n  File \"/home/james/.conda/envs/test2/lib/python3.7/asyncio/events.py\", line 88, in _run\n    self._context.run(self._callback, *self._args)\n  File \"/home/james/.conda/envs/test2/lib/python3.7/site-packages/tornado/ioloop.py\", line 690, in <lambda>\n    lambda f: self._run_callback(functools.partial(callback, future))\n  File \"/home/james/.conda/envs/test2/lib/python3.7/site-packages/tornado/ioloop.py\", line 743, in _run_callback\n    ret = callback()\n  File \"/home/james/.conda/envs/test2/lib/python3.7/site-packages/tornado/gen.py\", line 787, in inner\n    self.run()\n  File \"/home/james/.conda/envs/test2/lib/python3.7/site-packages/tornado/gen.py\", line 748, in run\n    yielded = self.gen.send(value)\n  File \"/home/james/.conda/envs/test2/lib/python3.7/site-packages/ipykernel/kernelbase.py\", line 365, in process_one\n    yield gen.maybe_future(dispatch(*args))\n  File \"/home/james/.conda/envs/test2/lib/python3.7/site-packages/tornado/gen.py\", line 209, in wrapper\n    yielded = next(result)\n  File \"/home/james/.conda/envs/test2/lib/python3.7/site-packages/ipykernel/kernelbase.py\", line 272, in dispatch_shell\n    yield gen.maybe_future(handler(stream, idents, msg))\n  File \"/home/james/.conda/envs/test2/lib/python3.7/site-packages/tornado/gen.py\", line 209, in wrapper\n    yielded = next(result)\n  File \"/home/james/.conda/envs/test2/lib/python3.7/site-packages/ipykernel/kernelbase.py\", line 542, in execute_request\n    user_expressions, allow_stdin,\n  File \"/home/james/.conda/envs/test2/lib/python3.7/site-packages/tornado/gen.py\", line 209, in wrapper\n    yielded = next(result)\n  File \"/home/james/.conda/envs/test2/lib/python3.7/site-packages/ipykernel/ipkernel.py\", line 294, in do_execute\n    res = shell.run_cell(code, store_history=store_history, silent=silent)\n  File \"/home/james/.conda/envs/test2/lib/python3.7/site-packages/ipykernel/zmqshell.py\", line 536, in run_cell\n    return super(ZMQInteractiveShell, self).run_cell(*args, **kwargs)\n  File \"/home/james/.conda/envs/test2/lib/python3.7/site-packages/IPython/core/interactiveshell.py\", line 2855, in run_cell\n    raw_cell, store_history, silent, shell_futures)\n  File \"/home/james/.conda/envs/test2/lib/python3.7/site-packages/IPython/core/interactiveshell.py\", line 2881, in _run_cell\n    return runner(coro)\n  File \"/home/james/.conda/envs/test2/lib/python3.7/site-packages/IPython/core/async_helpers.py\", line 68, in _pseudo_sync_runner\n    coro.send(None)\n  File \"/home/james/.conda/envs/test2/lib/python3.7/site-packages/IPython/core/interactiveshell.py\", line 3058, in run_cell_async\n    interactivity=interactivity, compiler=compiler, result=result)\n  File \"/home/james/.conda/envs/test2/lib/python3.7/site-packages/IPython/core/interactiveshell.py\", line 3249, in run_ast_nodes\n    if (await self.run_code(code, result,  async_=asy)):\n  File \"/home/james/.conda/envs/test2/lib/python3.7/site-packages/IPython/core/interactiveshell.py\", line 3326, in run_code\n    exec(code_obj, self.user_global_ns, self.user_ns)\n  File \"<ipython-input-70-a5e7bb94337c>\", line 1, in <module>\n    a = tf.Variable(a, trainable=True, constraint = tf.keras.constraints.MaxNorm(max_value=1, axis=0) )\n  File \"/home/james/.conda/envs/test2/lib/python3.7/site-packages/tensorflow/python/ops/variables.py\", line 259, in __call__\n    return cls._variable_v1_call(*args, **kwargs)\n  File \"/home/james/.conda/envs/test2/lib/python3.7/site-packages/tensorflow/python/ops/variables.py\", line 220, in _variable_v1_call\n    shape=shape)\n  File \"/home/james/.conda/envs/test2/lib/python3.7/site-packages/tensorflow/python/ops/variables.py\", line 198, in <lambda>\n    previous_getter = lambda **kwargs: default_variable_creator(None, **kwargs)\n  File \"/home/james/.conda/envs/test2/lib/python3.7/site-packages/tensorflow/python/ops/variable_scope.py\", line 2511, in default_variable_creator\n    shape=shape)\n  File \"/home/james/.conda/envs/test2/lib/python3.7/site-packages/tensorflow/python/ops/variables.py\", line 263, in __call__\n    return super(VariableMetaclass, cls).__call__(*args, **kwargs)\n  File \"/home/james/.conda/envs/test2/lib/python3.7/site-packages/tensorflow/python/ops/variables.py\", line 1568, in __init__\n    shape=shape)\n  File \"/home/james/.conda/envs/test2/lib/python3.7/site-packages/tensorflow/python/ops/variables.py\", line 1755, in _init_from_args\n    self._snapshot = array_ops.identity(self._variable, name=\"read\")\n  File \"/home/james/.conda/envs/test2/lib/python3.7/site-packages/tensorflow/python/util/dispatch.py\", line 180, in wrapper\n    return target(*args, **kwargs)\n  File \"/home/james/.conda/envs/test2/lib/python3.7/site-packages/tensorflow/python/ops/array_ops.py\", line 86, in identity\n    ret = gen_array_ops.identity(input, name=name)\n  File \"/home/james/.conda/envs/test2/lib/python3.7/site-packages/tensorflow/python/ops/gen_array_ops.py\", line 4253, in identity\n    \"Identity\", input=input, name=name)\n  File \"/home/james/.conda/envs/test2/lib/python3.7/site-packages/tensorflow/python/framework/op_def_library.py\", line 788, in _apply_op_helper\n    op_def=op_def)\n  File \"/home/james/.conda/envs/test2/lib/python3.7/site-packages/tensorflow/python/util/deprecation.py\", line 507, in new_func\n    return func(*args, **kwargs)\n  File \"/home/james/.conda/envs/test2/lib/python3.7/site-packages/tensorflow/python/framework/ops.py\", line 3616, in create_op\n    op_def=op_def)\n  File \"/home/james/.conda/envs/test2/lib/python3.7/site-packages/tensorflow/python/framework/ops.py\", line 2005, in __init__\n    self._traceback = tf_stack.extract_stack()\n"
     ]
    }
   ],
   "source": [
    "\n",
    "with tf.Session() as sess:\n",
    "    sess.run(tf.global_variables_initializer())\n",
    "\n",
    "\n",
    "    print(a)\n",
    "    "
   ]
  },
  {
   "cell_type": "code",
   "execution_count": 49,
   "metadata": {},
   "outputs": [
    {
     "name": "stdout",
     "output_type": "stream",
     "text": [
      "[[[0, 0], [0, 1], [0, 2]], [[1, 0], [1, 1], [1, 2]]]\n"
     ]
    }
   ],
   "source": [
    "\n",
    "x = [[1,2,3],[4,5,6]]\n",
    "y = [[7,8,9],[10,11,12]]\n",
    "condition3 = [[True,False,False],\n",
    "             [False,True,True]]\n",
    "condition4 = [[True,False,False],\n",
    "             [True,True,False]]\n",
    "coordinate = [[[0,0],[0,1],[0,2]],[[1,0],[1,1],[1,2]]]\n",
    "\n",
    "if condition3:\n",
    "    a = coordinate\n",
    "    print(a)\n",
    "\n"
   ]
  },
  {
   "cell_type": "code",
   "execution_count": 10,
   "metadata": {},
   "outputs": [
    {
     "ename": "ValueError",
     "evalue": "initial_value must be specified.",
     "output_type": "error",
     "traceback": [
      "\u001b[0;31m---------------------------------------------------------------------------\u001b[0m",
      "\u001b[0;31mValueError\u001b[0m                                Traceback (most recent call last)",
      "\u001b[0;32m<ipython-input-10-70afc547639a>\u001b[0m in \u001b[0;36m<module>\u001b[0;34m\u001b[0m\n\u001b[0;32m----> 1\u001b[0;31m \u001b[0ma\u001b[0m \u001b[0;34m=\u001b[0m \u001b[0mtf\u001b[0m\u001b[0;34m.\u001b[0m\u001b[0mVariable\u001b[0m\u001b[0;34m(\u001b[0m \u001b[0minitial_value\u001b[0m\u001b[0;34m=\u001b[0m\u001b[0;32mNone\u001b[0m\u001b[0;34m,\u001b[0m\u001b[0mtrainable\u001b[0m\u001b[0;34m=\u001b[0m\u001b[0;32mTrue\u001b[0m\u001b[0;34m,\u001b[0m \u001b[0mconstraint\u001b[0m\u001b[0;34m=\u001b[0m\u001b[0;32mNone\u001b[0m \u001b[0;34m)\u001b[0m\u001b[0;34m\u001b[0m\u001b[0;34m\u001b[0m\u001b[0m\n\u001b[0m",
      "\u001b[0;32m~/.conda/envs/test2/lib/python3.7/site-packages/tensorflow/python/ops/variables.py\u001b[0m in \u001b[0;36m__call__\u001b[0;34m(cls, *args, **kwargs)\u001b[0m\n\u001b[1;32m    257\u001b[0m   \u001b[0;32mdef\u001b[0m \u001b[0m__call__\u001b[0m\u001b[0;34m(\u001b[0m\u001b[0mcls\u001b[0m\u001b[0;34m,\u001b[0m \u001b[0;34m*\u001b[0m\u001b[0margs\u001b[0m\u001b[0;34m,\u001b[0m \u001b[0;34m**\u001b[0m\u001b[0mkwargs\u001b[0m\u001b[0;34m)\u001b[0m\u001b[0;34m:\u001b[0m\u001b[0;34m\u001b[0m\u001b[0;34m\u001b[0m\u001b[0m\n\u001b[1;32m    258\u001b[0m     \u001b[0;32mif\u001b[0m \u001b[0mcls\u001b[0m \u001b[0;32mis\u001b[0m \u001b[0mVariableV1\u001b[0m\u001b[0;34m:\u001b[0m\u001b[0;34m\u001b[0m\u001b[0;34m\u001b[0m\u001b[0m\n\u001b[0;32m--> 259\u001b[0;31m       \u001b[0;32mreturn\u001b[0m \u001b[0mcls\u001b[0m\u001b[0;34m.\u001b[0m\u001b[0m_variable_v1_call\u001b[0m\u001b[0;34m(\u001b[0m\u001b[0;34m*\u001b[0m\u001b[0margs\u001b[0m\u001b[0;34m,\u001b[0m \u001b[0;34m**\u001b[0m\u001b[0mkwargs\u001b[0m\u001b[0;34m)\u001b[0m\u001b[0;34m\u001b[0m\u001b[0;34m\u001b[0m\u001b[0m\n\u001b[0m\u001b[1;32m    260\u001b[0m     \u001b[0;32melif\u001b[0m \u001b[0mcls\u001b[0m \u001b[0;32mis\u001b[0m \u001b[0mVariable\u001b[0m\u001b[0;34m:\u001b[0m\u001b[0;34m\u001b[0m\u001b[0;34m\u001b[0m\u001b[0m\n\u001b[1;32m    261\u001b[0m       \u001b[0;32mreturn\u001b[0m \u001b[0mcls\u001b[0m\u001b[0;34m.\u001b[0m\u001b[0m_variable_v2_call\u001b[0m\u001b[0;34m(\u001b[0m\u001b[0;34m*\u001b[0m\u001b[0margs\u001b[0m\u001b[0;34m,\u001b[0m \u001b[0;34m**\u001b[0m\u001b[0mkwargs\u001b[0m\u001b[0;34m)\u001b[0m\u001b[0;34m\u001b[0m\u001b[0;34m\u001b[0m\u001b[0m\n",
      "\u001b[0;32m~/.conda/envs/test2/lib/python3.7/site-packages/tensorflow/python/ops/variables.py\u001b[0m in \u001b[0;36m_variable_v1_call\u001b[0;34m(cls, initial_value, trainable, collections, validate_shape, caching_device, name, variable_def, dtype, expected_shape, import_scope, constraint, use_resource, synchronization, aggregation, shape)\u001b[0m\n\u001b[1;32m    218\u001b[0m         \u001b[0msynchronization\u001b[0m\u001b[0;34m=\u001b[0m\u001b[0msynchronization\u001b[0m\u001b[0;34m,\u001b[0m\u001b[0;34m\u001b[0m\u001b[0;34m\u001b[0m\u001b[0m\n\u001b[1;32m    219\u001b[0m         \u001b[0maggregation\u001b[0m\u001b[0;34m=\u001b[0m\u001b[0maggregation\u001b[0m\u001b[0;34m,\u001b[0m\u001b[0;34m\u001b[0m\u001b[0;34m\u001b[0m\u001b[0m\n\u001b[0;32m--> 220\u001b[0;31m         shape=shape)\n\u001b[0m\u001b[1;32m    221\u001b[0m \u001b[0;34m\u001b[0m\u001b[0m\n\u001b[1;32m    222\u001b[0m   def _variable_v2_call(cls,\n",
      "\u001b[0;32m~/.conda/envs/test2/lib/python3.7/site-packages/tensorflow/python/ops/variables.py\u001b[0m in \u001b[0;36m<lambda>\u001b[0;34m(**kwargs)\u001b[0m\n\u001b[1;32m    196\u001b[0m                         shape=None):\n\u001b[1;32m    197\u001b[0m     \u001b[0;34m\"\"\"Call on Variable class. Useful to force the signature.\"\"\"\u001b[0m\u001b[0;34m\u001b[0m\u001b[0;34m\u001b[0m\u001b[0m\n\u001b[0;32m--> 198\u001b[0;31m     \u001b[0mprevious_getter\u001b[0m \u001b[0;34m=\u001b[0m \u001b[0;32mlambda\u001b[0m \u001b[0;34m**\u001b[0m\u001b[0mkwargs\u001b[0m\u001b[0;34m:\u001b[0m \u001b[0mdefault_variable_creator\u001b[0m\u001b[0;34m(\u001b[0m\u001b[0;32mNone\u001b[0m\u001b[0;34m,\u001b[0m \u001b[0;34m**\u001b[0m\u001b[0mkwargs\u001b[0m\u001b[0;34m)\u001b[0m\u001b[0;34m\u001b[0m\u001b[0;34m\u001b[0m\u001b[0m\n\u001b[0m\u001b[1;32m    199\u001b[0m     \u001b[0;32mfor\u001b[0m \u001b[0m_\u001b[0m\u001b[0;34m,\u001b[0m \u001b[0mgetter\u001b[0m \u001b[0;32min\u001b[0m \u001b[0mops\u001b[0m\u001b[0;34m.\u001b[0m\u001b[0mget_default_graph\u001b[0m\u001b[0;34m(\u001b[0m\u001b[0;34m)\u001b[0m\u001b[0;34m.\u001b[0m\u001b[0m_variable_creator_stack\u001b[0m\u001b[0;34m:\u001b[0m  \u001b[0;31m# pylint: disable=protected-access\u001b[0m\u001b[0;34m\u001b[0m\u001b[0;34m\u001b[0m\u001b[0m\n\u001b[1;32m    200\u001b[0m       \u001b[0mprevious_getter\u001b[0m \u001b[0;34m=\u001b[0m \u001b[0m_make_getter\u001b[0m\u001b[0;34m(\u001b[0m\u001b[0mgetter\u001b[0m\u001b[0;34m,\u001b[0m \u001b[0mprevious_getter\u001b[0m\u001b[0;34m)\u001b[0m\u001b[0;34m\u001b[0m\u001b[0;34m\u001b[0m\u001b[0m\n",
      "\u001b[0;32m~/.conda/envs/test2/lib/python3.7/site-packages/tensorflow/python/ops/variable_scope.py\u001b[0m in \u001b[0;36mdefault_variable_creator\u001b[0;34m(next_creator, **kwargs)\u001b[0m\n\u001b[1;32m   2509\u001b[0m         \u001b[0msynchronization\u001b[0m\u001b[0;34m=\u001b[0m\u001b[0msynchronization\u001b[0m\u001b[0;34m,\u001b[0m\u001b[0;34m\u001b[0m\u001b[0;34m\u001b[0m\u001b[0m\n\u001b[1;32m   2510\u001b[0m         \u001b[0maggregation\u001b[0m\u001b[0;34m=\u001b[0m\u001b[0maggregation\u001b[0m\u001b[0;34m,\u001b[0m\u001b[0;34m\u001b[0m\u001b[0;34m\u001b[0m\u001b[0m\n\u001b[0;32m-> 2511\u001b[0;31m         shape=shape)\n\u001b[0m\u001b[1;32m   2512\u001b[0m \u001b[0;34m\u001b[0m\u001b[0m\n\u001b[1;32m   2513\u001b[0m \u001b[0;34m\u001b[0m\u001b[0m\n",
      "\u001b[0;32m~/.conda/envs/test2/lib/python3.7/site-packages/tensorflow/python/ops/variables.py\u001b[0m in \u001b[0;36m__call__\u001b[0;34m(cls, *args, **kwargs)\u001b[0m\n\u001b[1;32m    261\u001b[0m       \u001b[0;32mreturn\u001b[0m \u001b[0mcls\u001b[0m\u001b[0;34m.\u001b[0m\u001b[0m_variable_v2_call\u001b[0m\u001b[0;34m(\u001b[0m\u001b[0;34m*\u001b[0m\u001b[0margs\u001b[0m\u001b[0;34m,\u001b[0m \u001b[0;34m**\u001b[0m\u001b[0mkwargs\u001b[0m\u001b[0;34m)\u001b[0m\u001b[0;34m\u001b[0m\u001b[0;34m\u001b[0m\u001b[0m\n\u001b[1;32m    262\u001b[0m     \u001b[0;32melse\u001b[0m\u001b[0;34m:\u001b[0m\u001b[0;34m\u001b[0m\u001b[0;34m\u001b[0m\u001b[0m\n\u001b[0;32m--> 263\u001b[0;31m       \u001b[0;32mreturn\u001b[0m \u001b[0msuper\u001b[0m\u001b[0;34m(\u001b[0m\u001b[0mVariableMetaclass\u001b[0m\u001b[0;34m,\u001b[0m \u001b[0mcls\u001b[0m\u001b[0;34m)\u001b[0m\u001b[0;34m.\u001b[0m\u001b[0m__call__\u001b[0m\u001b[0;34m(\u001b[0m\u001b[0;34m*\u001b[0m\u001b[0margs\u001b[0m\u001b[0;34m,\u001b[0m \u001b[0;34m**\u001b[0m\u001b[0mkwargs\u001b[0m\u001b[0;34m)\u001b[0m\u001b[0;34m\u001b[0m\u001b[0;34m\u001b[0m\u001b[0m\n\u001b[0m\u001b[1;32m    264\u001b[0m \u001b[0;34m\u001b[0m\u001b[0m\n\u001b[1;32m    265\u001b[0m \u001b[0;34m\u001b[0m\u001b[0m\n",
      "\u001b[0;32m~/.conda/envs/test2/lib/python3.7/site-packages/tensorflow/python/ops/variables.py\u001b[0m in \u001b[0;36m__init__\u001b[0;34m(self, initial_value, trainable, collections, validate_shape, caching_device, name, variable_def, dtype, expected_shape, import_scope, constraint, synchronization, aggregation, shape)\u001b[0m\n\u001b[1;32m   1566\u001b[0m           \u001b[0msynchronization\u001b[0m\u001b[0;34m=\u001b[0m\u001b[0msynchronization\u001b[0m\u001b[0;34m,\u001b[0m\u001b[0;34m\u001b[0m\u001b[0;34m\u001b[0m\u001b[0m\n\u001b[1;32m   1567\u001b[0m           \u001b[0maggregation\u001b[0m\u001b[0;34m=\u001b[0m\u001b[0maggregation\u001b[0m\u001b[0;34m,\u001b[0m\u001b[0;34m\u001b[0m\u001b[0;34m\u001b[0m\u001b[0m\n\u001b[0;32m-> 1568\u001b[0;31m           shape=shape)\n\u001b[0m\u001b[1;32m   1569\u001b[0m \u001b[0;34m\u001b[0m\u001b[0m\n\u001b[1;32m   1570\u001b[0m   \u001b[0;32mdef\u001b[0m \u001b[0m__repr__\u001b[0m\u001b[0;34m(\u001b[0m\u001b[0mself\u001b[0m\u001b[0;34m)\u001b[0m\u001b[0;34m:\u001b[0m\u001b[0;34m\u001b[0m\u001b[0;34m\u001b[0m\u001b[0m\n",
      "\u001b[0;32m~/.conda/envs/test2/lib/python3.7/site-packages/tensorflow/python/ops/variables.py\u001b[0m in \u001b[0;36m_init_from_args\u001b[0;34m(self, initial_value, trainable, collections, validate_shape, caching_device, name, dtype, expected_shape, constraint, synchronization, aggregation, shape)\u001b[0m\n\u001b[1;32m   1648\u001b[0m     \u001b[0m_\u001b[0m \u001b[0;34m=\u001b[0m \u001b[0mexpected_shape\u001b[0m\u001b[0;34m\u001b[0m\u001b[0;34m\u001b[0m\u001b[0m\n\u001b[1;32m   1649\u001b[0m     \u001b[0;32mif\u001b[0m \u001b[0minitial_value\u001b[0m \u001b[0;32mis\u001b[0m \u001b[0;32mNone\u001b[0m\u001b[0;34m:\u001b[0m\u001b[0;34m\u001b[0m\u001b[0;34m\u001b[0m\u001b[0m\n\u001b[0;32m-> 1650\u001b[0;31m       \u001b[0;32mraise\u001b[0m \u001b[0mValueError\u001b[0m\u001b[0;34m(\u001b[0m\u001b[0;34m\"initial_value must be specified.\"\u001b[0m\u001b[0;34m)\u001b[0m\u001b[0;34m\u001b[0m\u001b[0;34m\u001b[0m\u001b[0m\n\u001b[0m\u001b[1;32m   1651\u001b[0m     \u001b[0minit_from_fn\u001b[0m \u001b[0;34m=\u001b[0m \u001b[0mcallable\u001b[0m\u001b[0;34m(\u001b[0m\u001b[0minitial_value\u001b[0m\u001b[0;34m)\u001b[0m\u001b[0;34m\u001b[0m\u001b[0;34m\u001b[0m\u001b[0m\n\u001b[1;32m   1652\u001b[0m \u001b[0;34m\u001b[0m\u001b[0m\n",
      "\u001b[0;31mValueError\u001b[0m: initial_value must be specified."
     ]
    }
   ],
   "source": [
    "a = tf.Variable( initial_value=None,trainable=True, constraint=None )"
   ]
  },
  {
   "cell_type": "code",
   "execution_count": null,
   "metadata": {},
   "outputs": [],
   "source": []
  },
  {
   "cell_type": "code",
   "execution_count": null,
   "metadata": {},
   "outputs": [],
   "source": []
  }
 ],
 "metadata": {
  "kernelspec": {
   "display_name": "Python 3",
   "language": "python",
   "name": "python3"
  },
  "language_info": {
   "codemirror_mode": {
    "name": "ipython",
    "version": 3
   },
   "file_extension": ".py",
   "mimetype": "text/x-python",
   "name": "python",
   "nbconvert_exporter": "python",
   "pygments_lexer": "ipython3",
   "version": "3.7.4"
  }
 },
 "nbformat": 4,
 "nbformat_minor": 4
}
